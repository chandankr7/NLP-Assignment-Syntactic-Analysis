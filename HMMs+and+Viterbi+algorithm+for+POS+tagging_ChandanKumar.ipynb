{
 "cells": [
  {
   "cell_type": "markdown",
   "metadata": {},
   "source": [
    "# POS tagging using modified Viterbi\n",
    "\n",
    "<font size=4>Objectives of the analysis - </font>\n",
    "\n",
    "    1. Write the vanilla Viterbi algorithm for assigning POS tags (i.e. without dealing with unknown words) \n",
    "\n",
    "    2. Solve the problem of unknown words using at least two techniques. \n",
    "\n",
    "    3. Compare the tagging accuracy after making these modifications with the vanilla Viterbi algorithm.\n",
    "\n",
    "    4. List down at least three cases from the sample test file (i.e. unknown word-tag pairs) which were \n",
    "    incorrectly tagged by the original Viterbi POS tagger and got corrected after your modifications."
   ]
  },
  {
   "cell_type": "code",
   "execution_count": 1,
   "metadata": {
    "ExecuteTime": {
     "end_time": "2020-05-25T11:57:22.585659Z",
     "start_time": "2020-05-25T11:57:21.518122Z"
    }
   },
   "outputs": [
    {
     "name": "stdout",
     "output_type": "stream",
     "text": [
      "The nltk version is 3.5.\n",
      "The numpy version is 1.18.2.\n",
      "The pandas version is 0.25.3.\n",
      "The scikit-learn version is 0.22.2.post1.\n"
     ]
    }
   ],
   "source": [
    "#Importing libraries\n",
    "\n",
    "import nltk, re\n",
    "print('The nltk version is {}.'.format(nltk.__version__))\n",
    "import numpy as np\n",
    "print('The numpy version is {}.'.format(np.__version__))\n",
    "import pandas as pd\n",
    "print('The pandas version is {}.'.format(pd.__version__))\n",
    "import requests\n",
    "import matplotlib.pyplot as plt\n",
    "import seaborn as sns\n",
    "import random\n",
    "import sklearn\n",
    "print('The scikit-learn version is {}.'.format(sklearn.__version__))\n",
    "from sklearn.model_selection import train_test_split\n",
    "from nltk.tokenize import word_tokenize, sent_tokenize\n",
    "import pprint, time"
   ]
  },
  {
   "cell_type": "markdown",
   "metadata": {},
   "source": [
    "## Data Preparation"
   ]
  },
  {
   "cell_type": "code",
   "execution_count": 2,
   "metadata": {
    "ExecuteTime": {
     "end_time": "2020-05-25T11:57:28.739067Z",
     "start_time": "2020-05-25T11:57:25.833950Z"
    }
   },
   "outputs": [
    {
     "data": {
      "text/plain": [
       "[[('Pierre', 'NOUN'),\n",
       "  ('Vinken', 'NOUN'),\n",
       "  (',', '.'),\n",
       "  ('61', 'NUM'),\n",
       "  ('years', 'NOUN'),\n",
       "  ('old', 'ADJ'),\n",
       "  (',', '.'),\n",
       "  ('will', 'VERB'),\n",
       "  ('join', 'VERB'),\n",
       "  ('the', 'DET'),\n",
       "  ('board', 'NOUN'),\n",
       "  ('as', 'ADP'),\n",
       "  ('a', 'DET'),\n",
       "  ('nonexecutive', 'ADJ'),\n",
       "  ('director', 'NOUN'),\n",
       "  ('Nov.', 'NOUN'),\n",
       "  ('29', 'NUM'),\n",
       "  ('.', '.')],\n",
       " [('Mr.', 'NOUN'),\n",
       "  ('Vinken', 'NOUN'),\n",
       "  ('is', 'VERB'),\n",
       "  ('chairman', 'NOUN'),\n",
       "  ('of', 'ADP'),\n",
       "  ('Elsevier', 'NOUN'),\n",
       "  ('N.V.', 'NOUN'),\n",
       "  (',', '.'),\n",
       "  ('the', 'DET'),\n",
       "  ('Dutch', 'NOUN'),\n",
       "  ('publishing', 'VERB'),\n",
       "  ('group', 'NOUN'),\n",
       "  ('.', '.')]]"
      ]
     },
     "execution_count": 2,
     "metadata": {},
     "output_type": "execute_result"
    }
   ],
   "source": [
    "# reading the Treebank tagged sentences\n",
    "nltk_data = list(nltk.corpus.treebank.tagged_sents(tagset='universal'))\n",
    "nltk_data[:2]"
   ]
  },
  {
   "cell_type": "code",
   "execution_count": 3,
   "metadata": {
    "ExecuteTime": {
     "end_time": "2020-05-25T11:57:35.491027Z",
     "start_time": "2020-05-25T11:57:35.484683Z"
    }
   },
   "outputs": [
    {
     "name": "stdout",
     "output_type": "stream",
     "text": [
      "Training set length - 3718\n",
      "Validation set length - 196\n",
      "--------------------------------------------------------------------------------\n",
      "Training set data glimpse -\n",
      "\n",
      "[[('Criminal', 'ADJ'), ('charges', 'NOUN'), ('*ICH*-2', 'X'), ('were', 'VERB'), ('filed', 'VERB'), ('*-1', 'X'), ('against', 'ADP'), ('Diceon', 'NOUN'), ('Electronics', 'NOUN'), ('Inc.', 'NOUN'), ('and', 'CONJ'), ('two', 'NUM'), ('company', 'NOUN'), ('officials', 'NOUN'), ('alleging', 'VERB'), ('waste', 'NOUN'), ('disposal', 'NOUN'), ('violations', 'NOUN'), ('in', 'ADP'), ('its', 'PRON'), ('Chatsworth', 'NOUN'), (',', '.'), ('Calif.', 'NOUN'), (',', '.'), ('facility', 'NOUN'), ('.', '.')], [('The', 'DET'), ('protracted', 'ADJ'), ('downturn', 'NOUN'), ('reflects', 'VERB'), ('the', 'DET'), ('intensity', 'NOUN'), ('of', 'ADP'), ('Bank', 'NOUN'), ('of', 'ADP'), ('Japan', 'NOUN'), ('yen-support', 'ADJ'), ('intervention', 'NOUN'), ('since', 'ADP'), ('June', 'NOUN'), (',', '.'), ('when', 'ADV'), ('the', 'DET'), ('U.S.', 'NOUN'), ('currency', 'NOUN'), ('temporarily', 'ADV'), ('surged', 'VERB'), ('above', 'ADP'), ('the', 'DET'), ('150.00', 'NUM'), ('yen', 'NOUN'), ('level', 'NOUN'), ('*T*-1', 'X'), ('.', '.')], [('Payments', 'NOUN'), ('are', 'VERB'), ('expected', 'VERB'), ('*-1', 'X'), ('to', 'PRT'), ('range', 'VERB'), ('between', 'ADP'), ('$', '.'), ('9', 'NUM'), ('billion', 'NUM'), ('*U*', 'X'), ('and', 'CONJ'), ('$', '.'), ('12', 'NUM'), ('billion', 'NUM'), ('*U*', 'X'), ('this', 'DET'), ('year', 'NOUN'), ('.', '.')], [('He', 'PRON'), ('said', 'VERB'), ('0', 'X'), ('the', 'DET'), ('ban', 'NOUN'), ('wo', 'VERB'), (\"n't\", 'ADV'), ('stop', 'VERB'), ('privately', 'ADV'), ('funded', 'VERB'), ('tissue-transplant', 'ADJ'), ('research', 'NOUN'), ('or', 'CONJ'), ('federally', 'ADV'), ('funded', 'VERB'), ('fetal-tissue', 'ADJ'), ('research', 'NOUN'), ('that', 'DET'), ('*T*-111', 'X'), ('does', 'VERB'), (\"n't\", 'ADV'), ('involve', 'VERB'), ('transplants', 'NOUN'), ('.', '.')], [('Or', 'CONJ'), (',', '.'), ('as', 'ADP'), ('Dorothy', 'NOUN'), ('Arighi', 'NOUN'), (',', '.'), ('an', 'DET'), ('interior', 'ADJ'), ('decorator', 'NOUN'), ('in', 'ADP'), ('Arnold', 'NOUN'), (',', '.'), ('Calif.', 'NOUN'), (',', '.'), ('puts', 'VERB'), ('it', 'PRON'), (':', '.'), ('``', '.'), ('All', 'DET'), ('kinds', 'NOUN'), ('of', 'ADP'), ('funny', 'ADJ'), ('things', 'NOUN'), ('spook', 'VERB'), ('the', 'DET'), ('market', 'NOUN'), ('these', 'DET'), ('days', 'NOUN'), ('.', '.'), (\"''\", '.')], [('In', 'ADP'), ('a', 'DET'), ('second', 'ADJ'), ('area', 'NOUN'), ('of', 'ADP'), ('common', 'ADJ'), ('concern', 'NOUN'), (',', '.'), ('the', 'DET'), ('world', 'NOUN'), ('environment', 'NOUN'), (',', '.'), ('an', 'DET'), ('additional', 'ADJ'), ('$', '.'), ('15', 'NUM'), ('million', 'NUM'), ('*U*', 'X'), ('*ICH*-1', 'X'), ('will', 'VERB'), ('be', 'VERB'), ('provided', 'VERB'), ('*-7', 'X'), ('in', 'ADP'), ('development', 'NOUN'), ('assistance', 'NOUN'), ('0', 'X'), ('*T*-2', 'X'), ('to', 'PRT'), ('fund', 'VERB'), ('a', 'DET'), ('series', 'NOUN'), ('of', 'ADP'), ('initiatives', 'NOUN'), (',', '.'), ('related', 'VERB'), ('both', 'DET'), ('to', 'PRT'), ('global', 'ADJ'), ('warming', 'NOUN'), ('and', 'CONJ'), ('the', 'DET'), ('plight', 'NOUN'), ('of', 'ADP'), ('the', 'DET'), ('African', 'ADJ'), ('elephant', 'NOUN'), ('.', '.')], [('Such', 'ADJ'), ('problems', 'NOUN'), ('will', 'VERB'), ('require', 'VERB'), ('considerable', 'ADJ'), ('skill', 'NOUN'), ('*', 'X'), ('to', 'PRT'), ('resolve', 'VERB'), ('.', '.')], [('But', 'CONJ'), ('Apple', 'NOUN'), ('II', 'NOUN'), ('was', 'VERB'), ('a', 'DET'), ('major', 'ADJ'), ('advance', 'NOUN'), ('from', 'ADP'), ('Apple', 'NOUN'), ('I', 'NOUN'), (',', '.'), ('which', 'DET'), ('*T*-1', 'X'), ('was', 'VERB'), ('built', 'VERB'), ('*-33', 'X'), ('in', 'ADP'), ('a', 'DET'), ('garage', 'NOUN'), ('by', 'ADP'), ('Stephen', 'NOUN'), ('Wozniak', 'NOUN'), ('and', 'CONJ'), ('Steven', 'NOUN'), ('Jobs', 'NOUN'), ('for', 'ADP'), ('hobbyists', 'NOUN'), ('such', 'ADJ'), ('as', 'ADP'), ('the', 'DET'), ('Homebrew', 'NOUN'), ('Computer', 'NOUN'), ('Club', 'NOUN'), ('.', '.')], [('The', 'DET'), ('charge', 'NOUN'), ('on', 'ADP'), ('loans', 'NOUN'), ('to', 'PRT'), ('brokers', 'NOUN'), ('on', 'ADP'), ('stock', 'NOUN'), ('exchange', 'NOUN'), ('collateral', 'NOUN'), ('.', '.')], [('The', 'DET'), ('idea', 'NOUN'), ('was', 'VERB'), ('*', 'X'), ('to', 'PRT'), ('buffet', 'VERB'), ('building', 'NOUN'), ('products', 'NOUN'), ('from', 'ADP'), ('cycles', 'NOUN'), ('in', 'ADP'), ('new-home', 'ADJ'), ('construction', 'NOUN'), ('.', '.')]]\n"
     ]
    }
   ],
   "source": [
    "# Splitting into training and validation set\n",
    "random.seed(1234)\n",
    "training_set, validation_set = train_test_split(nltk_data, test_size=0.05)\n",
    "\n",
    "print(\"Training set length -\", len(training_set))\n",
    "print(\"Validation set length -\", len(validation_set))\n",
    "print(\"-\" * 80)\n",
    "print(\"Training set data glimpse -\\n\")\n",
    "print(training_set[:10])"
   ]
  },
  {
   "cell_type": "code",
   "execution_count": 4,
   "metadata": {
    "ExecuteTime": {
     "end_time": "2020-05-25T11:57:43.053002Z",
     "start_time": "2020-05-25T11:57:43.040923Z"
    }
   },
   "outputs": [
    {
     "data": {
      "text/plain": [
       "95751"
      ]
     },
     "execution_count": 4,
     "metadata": {},
     "output_type": "execute_result"
    }
   ],
   "source": [
    "# Getting list of tagged words\n",
    "\n",
    "train_tagged_words = [tup for sent in training_set for tup in sent]\n",
    "len(train_tagged_words)"
   ]
  },
  {
   "cell_type": "code",
   "execution_count": 5,
   "metadata": {
    "ExecuteTime": {
     "end_time": "2020-05-25T11:57:47.836651Z",
     "start_time": "2020-05-25T11:57:47.831902Z"
    }
   },
   "outputs": [
    {
     "data": {
      "text/plain": [
       "[('Criminal', 'ADJ'),\n",
       " ('charges', 'NOUN'),\n",
       " ('*ICH*-2', 'X'),\n",
       " ('were', 'VERB'),\n",
       " ('filed', 'VERB'),\n",
       " ('*-1', 'X'),\n",
       " ('against', 'ADP'),\n",
       " ('Diceon', 'NOUN'),\n",
       " ('Electronics', 'NOUN'),\n",
       " ('Inc.', 'NOUN')]"
      ]
     },
     "execution_count": 5,
     "metadata": {},
     "output_type": "execute_result"
    }
   ],
   "source": [
    "# Let's have a look at the tagged words in the training set\n",
    "\n",
    "train_tagged_words[:10]"
   ]
  },
  {
   "cell_type": "code",
   "execution_count": 6,
   "metadata": {
    "ExecuteTime": {
     "end_time": "2020-05-25T11:57:53.531670Z",
     "start_time": "2020-05-25T11:57:53.513949Z"
    }
   },
   "outputs": [
    {
     "data": {
      "text/plain": [
       "['Criminal',\n",
       " 'charges',\n",
       " '*ICH*-2',\n",
       " 'were',\n",
       " 'filed',\n",
       " '*-1',\n",
       " 'against',\n",
       " 'Diceon',\n",
       " 'Electronics',\n",
       " 'Inc.']"
      ]
     },
     "execution_count": 6,
     "metadata": {},
     "output_type": "execute_result"
    }
   ],
   "source": [
    "# tokens in the training set - train_tagged_words\n",
    "\n",
    "train_data_tokens = [pair[0] for pair in train_tagged_words]\n",
    "train_data_tokens[:10]"
   ]
  },
  {
   "cell_type": "code",
   "execution_count": 7,
   "metadata": {
    "ExecuteTime": {
     "end_time": "2020-05-25T11:57:57.367828Z",
     "start_time": "2020-05-25T11:57:57.352983Z"
    }
   },
   "outputs": [
    {
     "data": {
      "text/plain": [
       "['ADJ', 'NOUN', 'X', 'VERB', 'VERB', 'X', 'ADP', 'NOUN', 'NOUN', 'NOUN']"
      ]
     },
     "execution_count": 7,
     "metadata": {},
     "output_type": "execute_result"
    }
   ],
   "source": [
    "# POS tags for the tokens in the training set\n",
    "\n",
    "train_data_pos_tags = [pair[1] for pair in train_tagged_words]\n",
    "train_data_pos_tags[:10]"
   ]
  },
  {
   "cell_type": "code",
   "execution_count": 8,
   "metadata": {
    "ExecuteTime": {
     "end_time": "2020-05-25T11:58:08.818139Z",
     "start_time": "2020-05-25T11:58:08.798669Z"
    }
   },
   "outputs": [
    {
     "name": "stdout",
     "output_type": "stream",
     "text": [
      "Vocabulary: 12111 \n",
      "Tags: 12\n",
      "\n",
      "Available Tags :\n",
      "\n",
      "{'.', 'ADP', 'ADV', 'NOUN', 'PRT', 'VERB', 'PRON', 'CONJ', 'X', 'ADJ', 'DET', 'NUM'}\n"
     ]
    }
   ],
   "source": [
    "# Building the training vocabulary to a set\n",
    "training_vocabulary_set = set(train_data_tokens)\n",
    "\n",
    "# Building the POS tags to a set\n",
    "training_pos_tag_set = set(train_data_pos_tags)\n",
    "\n",
    "print(\"Vocabulary: {} \\nTags: {}\".format(len(training_vocabulary_set), len(training_pos_tag_set)))\n",
    "print(\"\\nAvailable Tags :\\n\")\n",
    "print(training_pos_tag_set)"
   ]
  },
  {
   "cell_type": "markdown",
   "metadata": {},
   "source": [
    "# POS Tagging algorithm using Hidden Markov Model (HMM)\n",
    "\n",
    "We'll use the HMM algorithm to tag the words. Given a sequence of words to be tagged, the task is to assign the most probable tag to the word. In other words, to every word w, assign the tag t that maximises the likelihood P(t/w).\n",
    "\n",
    "Since P(t/w) = P(w/t). P(t) / P(w), after ignoring P(w), we have to compute P(w/t) and P(t).\n",
    "\n",
    "Now:\n",
    "\n",
    "<b> P(w/t): is the emission probability</b> of a given word for a given tag. This can be computed based on the fraction of given word for given tag to the total count of that tag, ie: P(w/t) = count(w, t) / count(t).\n",
    "\n",
    "<b> P(t): is the probability of tag (also transition probability)</b>, and in a tagging task, we assume that a tag will depend only on the previous tag (Markov order 1 assumption). In other words, the probability of say a tag being NN will depend only on the previous tag t(n-1). So for e.g. if t(n-1) is a JJ, then t(n) is likely to be an NN since adjectives often precede a noun (blue coat, tall building etc.)."
   ]
  },
  {
   "cell_type": "markdown",
   "metadata": {},
   "source": [
    "## Emission Probability"
   ]
  },
  {
   "cell_type": "code",
   "execution_count": 9,
   "metadata": {
    "ExecuteTime": {
     "end_time": "2020-05-25T11:58:19.067369Z",
     "start_time": "2020-05-25T11:58:19.064029Z"
    }
   },
   "outputs": [],
   "source": [
    "# computing P(w/t) and storing in [Tags x Vocabulary] matrix. This is a matrix with dimension\n",
    "# of len(training_pos_tag_set) X en(training_vocabulary_set)\n",
    "\n",
    "len_pos_tags = len(training_pos_tag_set)\n",
    "len_vocab = len(training_vocabulary_set)\n",
    "\n",
    "word_given_tag = np.zeros((len_pos_tags, len_vocab))"
   ]
  },
  {
   "cell_type": "code",
   "execution_count": 10,
   "metadata": {
    "ExecuteTime": {
     "end_time": "2020-05-25T11:58:21.178954Z",
     "start_time": "2020-05-25T11:58:21.172365Z"
    }
   },
   "outputs": [],
   "source": [
    "# compute word given tag: Emission Probability\n",
    "\n",
    "def word_given_tag(word, tag, train_bag = train_tagged_words):\n",
    "    tag_list = [pair for pair in train_bag if pair[1]==tag]\n",
    "    count_tag = len(tag_list)\n",
    "    w_given_tag_list = [pair[0] for pair in tag_list if pair[0]==word]\n",
    "    count_w_given_tag = len(w_given_tag_list)\n",
    "    \n",
    "    return (count_w_given_tag, count_tag)"
   ]
  },
  {
   "cell_type": "markdown",
   "metadata": {},
   "source": [
    "## Transition Probability"
   ]
  },
  {
   "cell_type": "code",
   "execution_count": 11,
   "metadata": {
    "ExecuteTime": {
     "end_time": "2020-05-25T11:58:25.370222Z",
     "start_time": "2020-05-25T11:58:25.365794Z"
    }
   },
   "outputs": [],
   "source": [
    "# compute tag given tag: tag2(t2) given tag1 (t1), i.e. Transition Probability\n",
    "\n",
    "def t2_given_t1(t2, t1, train_bag = train_tagged_words):\n",
    "    tags = [pair[1] for pair in train_bag]\n",
    "    count_t1 = len([t for t in tags if t==t1])\n",
    "    count_t2_t1 = 0\n",
    "    for index in range(len(tags)-1):\n",
    "        if tags[index]==t1 and tags[index+1] == t2:\n",
    "            count_t2_t1 += 1\n",
    "    return (count_t2_t1, count_t1)"
   ]
  },
  {
   "cell_type": "code",
   "execution_count": 12,
   "metadata": {
    "ExecuteTime": {
     "end_time": "2020-05-25T11:58:34.132741Z",
     "start_time": "2020-05-25T11:58:29.174046Z"
    }
   },
   "outputs": [
    {
     "data": {
      "text/plain": [
       "array([[9.34562683e-02, 9.01441202e-02, 5.29048443e-02, 2.21913889e-01,\n",
       "        2.41697254e-03, 8.87118429e-02, 6.52582571e-02, 5.82758933e-02,\n",
       "        2.73028370e-02, 4.38635759e-02, 1.74648643e-01, 8.10133368e-02],\n",
       "       [4.03846167e-02, 1.70940179e-02, 1.32478634e-02, 3.22649568e-01,\n",
       "        1.49572652e-03, 8.33333377e-03, 6.91239312e-02, 8.54700862e-04,\n",
       "        3.49358991e-02, 1.05982907e-01, 3.24679494e-01, 6.12179488e-02],\n",
       "       [1.36303186e-01, 1.19015954e-01, 7.81250000e-02, 3.19148935e-02,\n",
       "        1.46276597e-02, 3.44082445e-01, 1.49601065e-02, 5.98404277e-03,\n",
       "        2.19414886e-02, 1.30319148e-01, 7.08111674e-02, 3.19148935e-02],\n",
       "       [2.39986911e-01, 1.77255213e-01, 1.70095228e-02, 2.64447182e-01,\n",
       "        4.40139547e-02, 1.46616265e-01, 4.57948679e-03, 4.24147695e-02,\n",
       "        2.91124526e-02, 1.18485130e-02, 1.33386636e-02, 9.37704463e-03],\n",
       "       [4.13793102e-02, 2.00328398e-02, 1.01806242e-02, 2.47290641e-01,\n",
       "        1.64203614e-03, 4.00985211e-01, 1.83908045e-02, 2.29885057e-03,\n",
       "        1.37931034e-02, 8.47290605e-02, 1.01149425e-01, 5.81280775e-02],\n",
       "       [3.52895446e-02, 9.14108008e-02, 8.15390572e-02, 1.11154296e-01,\n",
       "        3.03925388e-02, 1.68830156e-01, 3.54450047e-02, 5.05246781e-03,\n",
       "        2.16401085e-01, 6.62261918e-02, 1.35561600e-01, 2.26972401e-02],\n",
       "       [3.90112028e-02, 2.16299724e-02, 3.47624570e-02, 2.10892230e-01,\n",
       "        1.27462344e-02, 4.84356880e-01, 7.33874086e-03, 5.40749310e-03,\n",
       "        9.26998854e-02, 7.33874068e-02, 1.00424876e-02, 7.72499014e-03],\n",
       "       [3.59309390e-02, 5.36630899e-02, 5.50629944e-02, 3.51376563e-01,\n",
       "        5.13299135e-03, 1.52123198e-01, 5.87960817e-02, 4.66635567e-04,\n",
       "        8.39943998e-03, 1.17592163e-01, 1.19925335e-01, 4.15305644e-02],\n",
       "       [1.65471062e-01, 1.42993778e-01, 2.55061369e-02, 6.28088638e-02,\n",
       "        1.83963016e-01, 2.05962062e-01, 5.49976081e-02, 9.88362823e-03,\n",
       "        7.46054500e-02, 1.64195765e-02, 5.45193702e-02, 2.86944048e-03],\n",
       "       [6.49926141e-02, 7.61529654e-02, 4.59543755e-03, 6.98506474e-01,\n",
       "        1.06679797e-02, 1.16527164e-02, 6.56491029e-04, 1.65764000e-02,\n",
       "        2.16642041e-02, 6.87674358e-02, 4.92368313e-03, 2.08435915e-02],\n",
       "       [1.80093646e-02, 9.24480706e-03, 1.24864932e-02, 6.38491988e-01,\n",
       "        2.40124864e-04, 3.99807915e-02, 3.72193544e-03, 4.80249728e-04,\n",
       "        4.52635363e-02, 2.04586387e-01, 5.40280947e-03, 2.20914874e-02],\n",
       "       [1.17227018e-01, 3.33234146e-02, 2.97530508e-03, 3.54953885e-01,\n",
       "        2.61826832e-02, 1.72567684e-02, 1.48765254e-03, 1.33888721e-02,\n",
       "        2.12139249e-01, 3.39184776e-02, 2.08271341e-03, 1.85063973e-01]],\n",
       "      dtype=float32)"
      ]
     },
     "execution_count": 12,
     "metadata": {},
     "output_type": "execute_result"
    }
   ],
   "source": [
    "# Each column is t2, each row is t1\n",
    "# thus M(i, j) represents P(tj given ti)\n",
    "\n",
    "tags_matrix = np.zeros((len_pos_tags, len_pos_tags), dtype='float32')\n",
    "for i, t1 in enumerate(list(training_pos_tag_set)):\n",
    "    for j, t2 in enumerate(list(training_pos_tag_set)): \n",
    "        tags_matrix[i, j] = t2_given_t1(t2, t1)[0]/t2_given_t1(t2, t1)[1]\n",
    "\n",
    "# Let's have a look into the transition matrix\n",
    "tags_matrix"
   ]
  },
  {
   "cell_type": "code",
   "execution_count": 13,
   "metadata": {
    "ExecuteTime": {
     "end_time": "2020-05-25T11:58:38.289921Z",
     "start_time": "2020-05-25T11:58:38.256808Z"
    }
   },
   "outputs": [
    {
     "data": {
      "text/html": [
       "<div>\n",
       "<style scoped>\n",
       "    .dataframe tbody tr th:only-of-type {\n",
       "        vertical-align: middle;\n",
       "    }\n",
       "\n",
       "    .dataframe tbody tr th {\n",
       "        vertical-align: top;\n",
       "    }\n",
       "\n",
       "    .dataframe thead th {\n",
       "        text-align: right;\n",
       "    }\n",
       "</style>\n",
       "<table border=\"1\" class=\"dataframe\">\n",
       "  <thead>\n",
       "    <tr style=\"text-align: right;\">\n",
       "      <th></th>\n",
       "      <th>.</th>\n",
       "      <th>ADP</th>\n",
       "      <th>ADV</th>\n",
       "      <th>NOUN</th>\n",
       "      <th>PRT</th>\n",
       "      <th>VERB</th>\n",
       "      <th>PRON</th>\n",
       "      <th>CONJ</th>\n",
       "      <th>X</th>\n",
       "      <th>ADJ</th>\n",
       "      <th>DET</th>\n",
       "      <th>NUM</th>\n",
       "    </tr>\n",
       "  </thead>\n",
       "  <tbody>\n",
       "    <tr>\n",
       "      <th>.</th>\n",
       "      <td>0.093456</td>\n",
       "      <td>0.090144</td>\n",
       "      <td>0.052905</td>\n",
       "      <td>0.221914</td>\n",
       "      <td>0.002417</td>\n",
       "      <td>0.088712</td>\n",
       "      <td>0.065258</td>\n",
       "      <td>0.058276</td>\n",
       "      <td>0.027303</td>\n",
       "      <td>0.043864</td>\n",
       "      <td>0.174649</td>\n",
       "      <td>0.081013</td>\n",
       "    </tr>\n",
       "    <tr>\n",
       "      <th>ADP</th>\n",
       "      <td>0.040385</td>\n",
       "      <td>0.017094</td>\n",
       "      <td>0.013248</td>\n",
       "      <td>0.322650</td>\n",
       "      <td>0.001496</td>\n",
       "      <td>0.008333</td>\n",
       "      <td>0.069124</td>\n",
       "      <td>0.000855</td>\n",
       "      <td>0.034936</td>\n",
       "      <td>0.105983</td>\n",
       "      <td>0.324679</td>\n",
       "      <td>0.061218</td>\n",
       "    </tr>\n",
       "    <tr>\n",
       "      <th>ADV</th>\n",
       "      <td>0.136303</td>\n",
       "      <td>0.119016</td>\n",
       "      <td>0.078125</td>\n",
       "      <td>0.031915</td>\n",
       "      <td>0.014628</td>\n",
       "      <td>0.344082</td>\n",
       "      <td>0.014960</td>\n",
       "      <td>0.005984</td>\n",
       "      <td>0.021941</td>\n",
       "      <td>0.130319</td>\n",
       "      <td>0.070811</td>\n",
       "      <td>0.031915</td>\n",
       "    </tr>\n",
       "    <tr>\n",
       "      <th>NOUN</th>\n",
       "      <td>0.239987</td>\n",
       "      <td>0.177255</td>\n",
       "      <td>0.017010</td>\n",
       "      <td>0.264447</td>\n",
       "      <td>0.044014</td>\n",
       "      <td>0.146616</td>\n",
       "      <td>0.004579</td>\n",
       "      <td>0.042415</td>\n",
       "      <td>0.029112</td>\n",
       "      <td>0.011849</td>\n",
       "      <td>0.013339</td>\n",
       "      <td>0.009377</td>\n",
       "    </tr>\n",
       "    <tr>\n",
       "      <th>PRT</th>\n",
       "      <td>0.041379</td>\n",
       "      <td>0.020033</td>\n",
       "      <td>0.010181</td>\n",
       "      <td>0.247291</td>\n",
       "      <td>0.001642</td>\n",
       "      <td>0.400985</td>\n",
       "      <td>0.018391</td>\n",
       "      <td>0.002299</td>\n",
       "      <td>0.013793</td>\n",
       "      <td>0.084729</td>\n",
       "      <td>0.101149</td>\n",
       "      <td>0.058128</td>\n",
       "    </tr>\n",
       "    <tr>\n",
       "      <th>VERB</th>\n",
       "      <td>0.035290</td>\n",
       "      <td>0.091411</td>\n",
       "      <td>0.081539</td>\n",
       "      <td>0.111154</td>\n",
       "      <td>0.030393</td>\n",
       "      <td>0.168830</td>\n",
       "      <td>0.035445</td>\n",
       "      <td>0.005052</td>\n",
       "      <td>0.216401</td>\n",
       "      <td>0.066226</td>\n",
       "      <td>0.135562</td>\n",
       "      <td>0.022697</td>\n",
       "    </tr>\n",
       "    <tr>\n",
       "      <th>PRON</th>\n",
       "      <td>0.039011</td>\n",
       "      <td>0.021630</td>\n",
       "      <td>0.034762</td>\n",
       "      <td>0.210892</td>\n",
       "      <td>0.012746</td>\n",
       "      <td>0.484357</td>\n",
       "      <td>0.007339</td>\n",
       "      <td>0.005407</td>\n",
       "      <td>0.092700</td>\n",
       "      <td>0.073387</td>\n",
       "      <td>0.010042</td>\n",
       "      <td>0.007725</td>\n",
       "    </tr>\n",
       "    <tr>\n",
       "      <th>CONJ</th>\n",
       "      <td>0.035931</td>\n",
       "      <td>0.053663</td>\n",
       "      <td>0.055063</td>\n",
       "      <td>0.351377</td>\n",
       "      <td>0.005133</td>\n",
       "      <td>0.152123</td>\n",
       "      <td>0.058796</td>\n",
       "      <td>0.000467</td>\n",
       "      <td>0.008399</td>\n",
       "      <td>0.117592</td>\n",
       "      <td>0.119925</td>\n",
       "      <td>0.041531</td>\n",
       "    </tr>\n",
       "    <tr>\n",
       "      <th>X</th>\n",
       "      <td>0.165471</td>\n",
       "      <td>0.142994</td>\n",
       "      <td>0.025506</td>\n",
       "      <td>0.062809</td>\n",
       "      <td>0.183963</td>\n",
       "      <td>0.205962</td>\n",
       "      <td>0.054998</td>\n",
       "      <td>0.009884</td>\n",
       "      <td>0.074605</td>\n",
       "      <td>0.016420</td>\n",
       "      <td>0.054519</td>\n",
       "      <td>0.002869</td>\n",
       "    </tr>\n",
       "    <tr>\n",
       "      <th>ADJ</th>\n",
       "      <td>0.064993</td>\n",
       "      <td>0.076153</td>\n",
       "      <td>0.004595</td>\n",
       "      <td>0.698506</td>\n",
       "      <td>0.010668</td>\n",
       "      <td>0.011653</td>\n",
       "      <td>0.000656</td>\n",
       "      <td>0.016576</td>\n",
       "      <td>0.021664</td>\n",
       "      <td>0.068767</td>\n",
       "      <td>0.004924</td>\n",
       "      <td>0.020844</td>\n",
       "    </tr>\n",
       "    <tr>\n",
       "      <th>DET</th>\n",
       "      <td>0.018009</td>\n",
       "      <td>0.009245</td>\n",
       "      <td>0.012486</td>\n",
       "      <td>0.638492</td>\n",
       "      <td>0.000240</td>\n",
       "      <td>0.039981</td>\n",
       "      <td>0.003722</td>\n",
       "      <td>0.000480</td>\n",
       "      <td>0.045264</td>\n",
       "      <td>0.204586</td>\n",
       "      <td>0.005403</td>\n",
       "      <td>0.022091</td>\n",
       "    </tr>\n",
       "    <tr>\n",
       "      <th>NUM</th>\n",
       "      <td>0.117227</td>\n",
       "      <td>0.033323</td>\n",
       "      <td>0.002975</td>\n",
       "      <td>0.354954</td>\n",
       "      <td>0.026183</td>\n",
       "      <td>0.017257</td>\n",
       "      <td>0.001488</td>\n",
       "      <td>0.013389</td>\n",
       "      <td>0.212139</td>\n",
       "      <td>0.033918</td>\n",
       "      <td>0.002083</td>\n",
       "      <td>0.185064</td>\n",
       "    </tr>\n",
       "  </tbody>\n",
       "</table>\n",
       "</div>"
      ],
      "text/plain": [
       "             .       ADP       ADV      NOUN       PRT      VERB      PRON  \\\n",
       ".     0.093456  0.090144  0.052905  0.221914  0.002417  0.088712  0.065258   \n",
       "ADP   0.040385  0.017094  0.013248  0.322650  0.001496  0.008333  0.069124   \n",
       "ADV   0.136303  0.119016  0.078125  0.031915  0.014628  0.344082  0.014960   \n",
       "NOUN  0.239987  0.177255  0.017010  0.264447  0.044014  0.146616  0.004579   \n",
       "PRT   0.041379  0.020033  0.010181  0.247291  0.001642  0.400985  0.018391   \n",
       "VERB  0.035290  0.091411  0.081539  0.111154  0.030393  0.168830  0.035445   \n",
       "PRON  0.039011  0.021630  0.034762  0.210892  0.012746  0.484357  0.007339   \n",
       "CONJ  0.035931  0.053663  0.055063  0.351377  0.005133  0.152123  0.058796   \n",
       "X     0.165471  0.142994  0.025506  0.062809  0.183963  0.205962  0.054998   \n",
       "ADJ   0.064993  0.076153  0.004595  0.698506  0.010668  0.011653  0.000656   \n",
       "DET   0.018009  0.009245  0.012486  0.638492  0.000240  0.039981  0.003722   \n",
       "NUM   0.117227  0.033323  0.002975  0.354954  0.026183  0.017257  0.001488   \n",
       "\n",
       "          CONJ         X       ADJ       DET       NUM  \n",
       ".     0.058276  0.027303  0.043864  0.174649  0.081013  \n",
       "ADP   0.000855  0.034936  0.105983  0.324679  0.061218  \n",
       "ADV   0.005984  0.021941  0.130319  0.070811  0.031915  \n",
       "NOUN  0.042415  0.029112  0.011849  0.013339  0.009377  \n",
       "PRT   0.002299  0.013793  0.084729  0.101149  0.058128  \n",
       "VERB  0.005052  0.216401  0.066226  0.135562  0.022697  \n",
       "PRON  0.005407  0.092700  0.073387  0.010042  0.007725  \n",
       "CONJ  0.000467  0.008399  0.117592  0.119925  0.041531  \n",
       "X     0.009884  0.074605  0.016420  0.054519  0.002869  \n",
       "ADJ   0.016576  0.021664  0.068767  0.004924  0.020844  \n",
       "DET   0.000480  0.045264  0.204586  0.005403  0.022091  \n",
       "NUM   0.013389  0.212139  0.033918  0.002083  0.185064  "
      ]
     },
     "execution_count": 13,
     "metadata": {},
     "output_type": "execute_result"
    }
   ],
   "source": [
    "# convert the matrix to a data frame for better readability\n",
    "tags_df = pd.DataFrame(tags_matrix, columns = list(training_pos_tag_set), index=list(training_pos_tag_set))\n",
    "\n",
    "# Lets look at the data of tags_df dataframe\n",
    "tags_df"
   ]
  },
  {
   "cell_type": "markdown",
   "metadata": {},
   "source": [
    "## Exploratory Data Analysis"
   ]
  },
  {
   "cell_type": "code",
   "execution_count": 14,
   "metadata": {
    "ExecuteTime": {
     "end_time": "2020-05-25T11:58:46.058214Z",
     "start_time": "2020-05-25T11:58:45.146906Z"
    }
   },
   "outputs": [
    {
     "data": {
      "image/png": "[encoded data removed]",
      "text/plain": [
       "<Figure size 1080x864 with 2 Axes>"
      ]
     },
     "metadata": {},
     "output_type": "display_data"
    }
   ],
   "source": [
    "# Plot Heatmap of tags matrix\n",
    "\n",
    "mask = np.zeros_like(tags_df)\n",
    "mask[np.triu_indices_from(mask)] = True\n",
    "with sns.axes_style(\"white\"):\n",
    "     f, ax = plt.subplots(figsize=(15, 12))\n",
    "     ax = sns.heatmap(tags_df, annot=True, mask=mask, vmax=1, square=True)"
   ]
  },
  {
   "cell_type": "code",
   "execution_count": 15,
   "metadata": {
    "ExecuteTime": {
     "end_time": "2020-05-25T11:58:56.647217Z",
     "start_time": "2020-05-25T11:58:56.231705Z"
    }
   },
   "outputs": [
    {
     "data": {
      "image/png": "[encoded data removed]",
      "text/plain": [
       "<Figure size 1008x576 with 2 Axes>"
      ]
     },
     "metadata": {
      "needs_background": "light"
     },
     "output_type": "display_data"
    }
   ],
   "source": [
    "# frequent tags and filter the df to get P(t2, t1) > 0.5\n",
    "\n",
    "tags_frequent = tags_df[tags_df>0.5]\n",
    "plt.figure(figsize=(14, 8))\n",
    "sns.heatmap(tags_frequent, annot = True)\n",
    "plt.show()"
   ]
  },
  {
   "cell_type": "markdown",
   "metadata": {},
   "source": [
    "# Build the Vanilla Viterbi Based POS Tagger "
   ]
  },
  {
   "cell_type": "code",
   "execution_count": 16,
   "metadata": {
    "ExecuteTime": {
     "end_time": "2020-05-25T11:59:06.812142Z",
     "start_time": "2020-05-25T11:59:06.806899Z"
    }
   },
   "outputs": [],
   "source": [
    "# Viterbi Heuristic\n",
    "def Vanilla_Viterbi(words, train_bag = train_tagged_words):\n",
    "    state = []\n",
    "    T = list(set([pair[1] for pair in train_bag]))\n",
    "    \n",
    "    for key, word in enumerate(words):\n",
    "        #initialise list of probability column for a given observation\n",
    "        p = [] \n",
    "        for tag in T:\n",
    "            if key == 0:\n",
    "                transition_p = tags_df.loc['.', tag]\n",
    "            else:\n",
    "                transition_p = tags_df.loc[state[-1], tag]\n",
    "                \n",
    "            # compute emission and state probabilities\n",
    "            emission_p = word_given_tag(words[key], tag)[0]/word_given_tag(words[key], tag)[1]\n",
    "            state_probability = emission_p * transition_p    \n",
    "            p.append(state_probability)\n",
    "            \n",
    "        pmax = max(p)\n",
    "        # getting state for which probability is maximum\n",
    "        state_max = T[p.index(pmax)] \n",
    "        state.append(state_max)\n",
    "    return list(zip(words, state))"
   ]
  },
  {
   "cell_type": "code",
   "execution_count": 17,
   "metadata": {
    "ExecuteTime": {
     "end_time": "2020-05-25T12:16:06.674246Z",
     "start_time": "2020-05-25T11:59:17.985241Z"
    }
   },
   "outputs": [
    {
     "name": "stdout",
     "output_type": "stream",
     "text": [
      "Time taken in seconds:  1008.682541847229\n",
      "Vanilla Viterbi Algorithm Accuracy:  91.14720812182742\n"
     ]
    }
   ],
   "source": [
    "# Let's test our Viterbi algorithm on sentences of validation dataset\n",
    "\n",
    "random.seed(1234)\n",
    "\n",
    "# list of tagged words\n",
    "test_run_base = [tup for sent in validation_set for tup in sent]\n",
    "\n",
    "# list of untagged words\n",
    "test_tagged_words = [tup[0] for sent in validation_set for tup in sent]\n",
    "\n",
    "# tagging the test sentences\n",
    "start = time.time()\n",
    "tagged_seq = Vanilla_Viterbi(test_tagged_words)\n",
    "end = time.time()\n",
    "difference = end-start\n",
    "\n",
    "print(\"Time taken in seconds: \", difference)\n",
    "\n",
    "# accuracy\n",
    "check = [i for i, j in zip(tagged_seq, test_run_base) if i == j] \n",
    "\n",
    "accuracy = len(check)/len(tagged_seq)\n",
    "print('Vanilla Viterbi Algorithm Accuracy: ',accuracy*100)"
   ]
  },
  {
   "cell_type": "code",
   "execution_count": 18,
   "metadata": {
    "ExecuteTime": {
     "end_time": "2020-05-25T12:16:20.268406Z",
     "start_time": "2020-05-25T12:16:20.225853Z"
    }
   },
   "outputs": [
    {
     "data": {
      "text/plain": [
       "[(('index-fund', 'ADJ'), ('index-fund', 'NOUN')),\n",
       " (('amass', '.'), ('amass', 'VERB')),\n",
       " (('most', 'ADV'), ('most', 'ADJ')),\n",
       " (('Disputado', '.'), ('Disputado', 'NOUN')),\n",
       " (('that', 'ADP'), ('that', 'DET')),\n",
       " (('twindam', '.'), ('twindam', 'NOUN')),\n",
       " (('average', 'ADJ'), ('average', 'NOUN')),\n",
       " (('9,118', '.'), ('9,118', 'NUM')),\n",
       " (('up', 'ADV'), ('up', 'ADP')),\n",
       " (('4,645', '.'), ('4,645', 'NUM')),\n",
       " (('earlier', 'ADV'), ('earlier', 'ADJ')),\n",
       " (('917', '.'), ('917', 'NUM')),\n",
       " (('Campaign', '.'), ('Campaign', 'NOUN')),\n",
       " (('95,142', '.'), ('95,142', 'NUM')),\n",
       " (('matching', '.'), ('matching', 'ADJ')),\n",
       " (('long-time', '.'), ('long-time', 'ADJ')),\n",
       " (('associate', '.'), ('associate', 'NOUN')),\n",
       " (('Griffin', '.'), ('Griffin', 'NOUN')),\n",
       " (('WTD', '.'), ('WTD', 'NOUN')),\n",
       " (('more', 'ADV'), ('more', 'ADJ')),\n",
       " (('Regarded', '.'), ('Regarded', 'VERB')),\n",
       " (('enough', 'ADV'), ('enough', 'ADJ')),\n",
       " (('Left', '.'), ('Left', 'VERB')),\n",
       " (('more', 'ADJ'), ('more', 'ADV')),\n",
       " (('Citing', '.'), ('Citing', 'VERB')),\n",
       " (('one', 'NUM'), ('one', 'NOUN')),\n",
       " (('borrowing', 'NOUN'), ('borrowing', 'VERB')),\n",
       " (('and', 'CONJ'), ('and', 'ADJ')),\n",
       " (('borrowed', '.'), ('borrowed', 'VERB')),\n",
       " (('*T*-84', '.'), ('*T*-84', 'X')),\n",
       " (('much', 'ADJ'), ('much', 'ADV')),\n",
       " (('entertain', '.'), ('entertain', 'VERB')),\n",
       " (('York-based', 'NOUN'), ('York-based', 'ADJ')),\n",
       " (('customized', '.'), ('customized', 'VERB')),\n",
       " (('advertising', 'NOUN'), ('advertising', 'VERB')),\n",
       " (('simulates', '.'), ('simulates', 'VERB')),\n",
       " (('live', 'VERB'), ('live', 'ADJ')),\n",
       " (('recycled', '.'), ('recycled', 'VERB')),\n",
       " (('Average', 'NOUN'), ('Average', 'ADJ')),\n",
       " (('lengthened', '.'), ('lengthened', 'VERB')),\n",
       " (('longest', '.'), ('longest', 'ADJ')),\n",
       " (('Donoghue', '.'), ('Donoghue', 'NOUN')),\n",
       " ((\"'s\", 'VERB'), (\"'s\", 'PRT')),\n",
       " (('materialize', '.'), ('materialize', 'VERB')),\n",
       " (('36', '.'), ('36', 'NUM')),\n",
       " (('Domaine', '.'), ('Domaine', 'NOUN')),\n",
       " (('la', '.'), ('la', 'DET')),\n",
       " (('72', '.'), ('72', 'NUM')),\n",
       " (('most', 'ADJ'), ('most', 'ADV')),\n",
       " (('vineyard', '.'), ('vineyard', 'NOUN')),\n",
       " (('anywhere', '.'), ('anywhere', 'ADV')),\n",
       " (('commanded', '.'), ('commanded', 'VERB')),\n",
       " (('three-digit', '.'), ('three-digit', 'ADJ')),\n",
       " (('tags', '.'), ('tags', 'NOUN')),\n",
       " (('disaffected', '.'), ('disaffected', 'ADJ')),\n",
       " (('hard-drinking', '.'), ('hard-drinking', 'ADJ')),\n",
       " (('nearly-30', '.'), ('nearly-30', 'ADJ')),\n",
       " (('sets', 'NOUN'), ('sets', 'VERB')),\n",
       " (('snow', '.'), ('snow', 'NOUN')),\n",
       " (('search', '.'), ('search', 'NOUN')),\n",
       " (('elusive', '.'), ('elusive', 'ADJ')),\n",
       " (('sheep', '.'), ('sheep', 'NOUN')),\n",
       " (('back', 'ADV'), ('back', 'NOUN')),\n",
       " (('behest', '.'), ('behest', 'NOUN')),\n",
       " (('sinister', '.'), ('sinister', 'ADJ')),\n",
       " (('erudite', '.'), ('erudite', 'ADJ')),\n",
       " (('mobster', '.'), ('mobster', 'NOUN')),\n",
       " (('3.80', '.'), ('3.80', 'NUM')),\n",
       " (('Gunmen', '.'), ('Gunmen', 'NOUN')),\n",
       " (('Lebanon', '.'), ('Lebanon', 'NOUN')),\n",
       " (('assassinated', '.'), ('assassinated', 'VERB')),\n",
       " (('Arabian', '.'), ('Arabian', 'NOUN')),\n",
       " (('pro-Iranian', '.'), ('pro-Iranian', 'ADJ')),\n",
       " (('Islamic', '.'), ('Islamic', 'NOUN')),\n",
       " (('slaying', '.'), ('slaying', 'NOUN')),\n",
       " (('avenge', '.'), ('avenge', 'VERB')),\n",
       " (('beheading', '.'), ('beheading', 'NOUN')),\n",
       " (('terrorists', '.'), ('terrorists', 'NOUN')),\n",
       " (('Riyadh', '.'), ('Riyadh', 'NOUN')),\n",
       " ((\"'s\", 'VERB'), (\"'s\", 'PRT')),\n",
       " (('jeopardy', '.'), ('jeopardy', 'NOUN')),\n",
       " (('subject', 'ADJ'), ('subject', 'NOUN')),\n",
       " (('alike', '.'), ('alike', 'ADV')),\n",
       " (('that', 'DET'), ('that', 'ADP')),\n",
       " (('differently', '.'), ('differently', 'ADV')),\n",
       " (('warranties', '.'), ('warranties', 'NOUN')),\n",
       " (('academics', '.'), ('academics', 'NOUN')),\n",
       " (('middle', 'ADJ'), ('middle', 'NOUN')),\n",
       " (('evil', 'ADJ'), ('evil', 'NOUN')),\n",
       " (('force', 'VERB'), ('force', 'NOUN')),\n",
       " (('down', 'ADV'), ('down', 'ADP')),\n",
       " (('5.70', '.'), ('5.70', 'NUM')),\n",
       " (('494.50', '.'), ('494.50', 'NUM')),\n",
       " (('adapting', '.'), ('adapting', 'VERB')),\n",
       " (('Next', '.'), ('Next', 'ADJ')),\n",
       " (('Philippine', '.'), ('Philippine', 'NOUN')),\n",
       " (('launch', 'VERB'), ('launch', 'NOUN')),\n",
       " (('capped', 'ADJ'), ('capped', 'VERB')),\n",
       " (('Philippine', '.'), ('Philippine', 'ADJ')),\n",
       " (('Corazon', '.'), ('Corazon', 'NOUN')),\n",
       " (('Aquino', '.'), ('Aquino', 'NOUN')),\n",
       " (('the', 'DET'), ('the', 'NOUN')),\n",
       " (('much', 'ADV'), ('much', 'ADJ')),\n",
       " (('Four', '.'), ('Four', 'NUM')),\n",
       " (('diagnosed', '.'), ('diagnosed', 'VERB')),\n",
       " (('following', 'NOUN'), ('following', 'VERB')),\n",
       " (('187', '.'), ('187', 'NUM')),\n",
       " (('that', 'ADP'), ('that', 'DET')),\n",
       " (('*T*-150', '.'), ('*T*-150', 'X')),\n",
       " (('air', 'NOUN'), ('air', 'VERB')),\n",
       " (('Judie', '.'), ('Judie', 'NOUN')),\n",
       " (('Jacksonville', '.'), ('Jacksonville', 'NOUN')),\n",
       " (('targets', 'NOUN'), ('targets', 'VERB')),\n",
       " (('sub-segments', '.'), ('sub-segments', 'NOUN')),\n",
       " (('tailoring', '.'), ('tailoring', 'VERB')),\n",
       " (('styles', '.'), ('styles', 'NOUN')),\n",
       " (('160', '.'), ('160', 'NUM')),\n",
       " (('that', 'ADP'), ('that', 'DET')),\n",
       " (('Actually', '.'), ('Actually', 'ADV')),\n",
       " (('looks', '.'), ('looks', 'VERB')),\n",
       " (('drink', 'NOUN'), ('drink', 'VERB')),\n",
       " (('desultory', '.'), ('desultory', 'ADJ')),\n",
       " (('open', 'VERB'), ('open', 'ADJ')),\n",
       " (('Walbrecher', '.'), ('Walbrecher', 'NOUN')),\n",
       " (('Francisco-based', '.'), ('Francisco-based', 'ADJ')),\n",
       " (('1st', '.'), ('1st', 'NUM')),\n",
       " (('Nationwide', '.'), ('Nationwide', 'NOUN')),\n",
       " (('executive', 'NOUN'), ('executive', 'ADJ')),\n",
       " (('principal', 'NOUN'), ('principal', 'ADJ')),\n",
       " (('operating', 'NOUN'), ('operating', 'VERB')),\n",
       " (('Fidelity', '.'), ('Fidelity', 'NOUN')),\n",
       " (('Mattress', '.'), ('Mattress', 'NOUN')),\n",
       " (('bedding', '.'), ('bedding', 'NOUN')),\n",
       " (('ROGERS', '.'), ('ROGERS', 'NOUN')),\n",
       " (('COMMUNICATIONS', '.'), ('COMMUNICATIONS', 'NOUN')),\n",
       " (('148.9', '.'), ('148.9', 'NUM')),\n",
       " (('153.3', '.'), ('153.3', 'NUM')),\n",
       " (('perpetual', '.'), ('perpetual', 'ADJ')),\n",
       " (('contest', '.'), ('contest', 'VERB')),\n",
       " (('Review', '.'), ('Review', 'NOUN')),\n",
       " (('reminded', '.'), ('reminded', 'VERB')),\n",
       " (('Chinese', 'ADJ'), ('Chinese', 'NOUN')),\n",
       " (('Shangkun', '.'), ('Shangkun', 'NOUN')),\n",
       " (('that', 'DET'), ('that', 'ADP')),\n",
       " (('forgiven', '.'), ('forgiven', 'VERB')),\n",
       " (('3-4', '.'), ('3-4', 'NUM')),\n",
       " (('*T*-241', '.'), ('*T*-241', 'X')),\n",
       " (('unethical', '.'), ('unethical', 'ADJ')),\n",
       " (('higher-salaried', '.'), ('higher-salaried', 'ADJ')),\n",
       " (('107.03', '.'), ('107.03', 'NUM')),\n",
       " (('offering', 'VERB'), ('offering', 'NOUN')),\n",
       " (('allocation', '.'), ('allocation', 'NOUN')),\n",
       " (('repriced', '.'), ('repriced', 'VERB')),\n",
       " (('nine-year', '.'), ('nine-year', 'ADJ')),\n",
       " (('5.7', '.'), ('5.7', 'NUM')),\n",
       " (('274', '.'), ('274', 'NUM')),\n",
       " (('Mayland', '.'), ('Mayland', 'NOUN')),\n",
       " (('taper', '.'), ('taper', 'VERB')),\n",
       " (('off', 'ADP'), ('off', 'PRT')),\n",
       " (('half', 'DET'), ('half', 'NOUN')),\n",
       " (('espouse', '.'), ('espouse', 'VERB')),\n",
       " (('about', 'ADP'), ('about', 'ADV')),\n",
       " (('one-third', 'NOUN'), ('one-third', 'ADJ')),\n",
       " (('indifference', '.'), ('indifference', 'NOUN')),\n",
       " (('Countries', '.'), ('Countries', 'NOUN')),\n",
       " (('framework', '.'), ('framework', 'NOUN')),\n",
       " (('that', 'ADP'), ('that', 'DET')),\n",
       " (('targets', 'NOUN'), ('targets', 'VERB')),\n",
       " (('unlikely', '.'), ('unlikely', 'ADJ')),\n",
       " (('Chilver', '.'), ('Chilver', 'NOUN')),\n",
       " (('63-year-old', '.'), ('63-year-old', 'ADJ')),\n",
       " (('English', 'ADJ'), ('English', 'NOUN')),\n",
       " (('Clays', '.'), ('Clays', 'NOUN')),\n",
       " (('untrained', '.'), ('untrained', 'ADJ')),\n",
       " (('botched', '.'), ('botched', 'ADJ')),\n",
       " (('American-made', '.'), ('American-made', 'ADJ')),\n",
       " (('234.4', '.'), ('234.4', 'NUM')),\n",
       " (('Soviet', 'ADJ'), ('Soviet', 'NOUN')),\n",
       " (('much', 'ADV'), ('much', 'ADJ')),\n",
       " (('strain', '.'), ('strain', 'NOUN')),\n",
       " (('moves', 'NOUN'), ('moves', 'VERB')),\n",
       " (('judgments', '.'), ('judgments', 'NOUN')),\n",
       " (('Myron', '.'), ('Myron', 'NOUN')),\n",
       " (('associate', '.'), ('associate', 'NOUN')),\n",
       " (('dean', '.'), ('dean', 'NOUN')),\n",
       " (('foreign-stock', '.'), ('foreign-stock', 'ADJ')),\n",
       " (('resistant', '.'), ('resistant', 'ADJ')),\n",
       " (('impressed', '.'), ('impressed', 'VERB')),\n",
       " (('executive', 'NOUN'), ('executive', 'ADJ')),\n",
       " (('fundraising', '.'), ('fundraising', 'VERB')),\n",
       " (('institute', 'VERB'), ('institute', 'NOUN')),\n",
       " (('downright', '.'), ('downright', 'ADV')),\n",
       " (('thumbing', '.'), ('thumbing', 'VERB')),\n",
       " (('Ideas', '.'), ('Ideas', 'NOUN')),\n",
       " (('borders', '.'), ('borders', 'NOUN')),\n",
       " (('SDI', '.'), ('SDI', 'NOUN')),\n",
       " (('weapon', '.'), ('weapon', 'NOUN')),\n",
       " (('*T*-245', '.'), ('*T*-245', 'X')),\n",
       " (('shoot', '.'), ('shoot', 'VERB')),\n",
       " (('down', 'ADV'), ('down', 'ADP')),\n",
       " (('excesses', '.'), ('excesses', 'NOUN')),\n",
       " (('out', 'PRT'), ('out', 'ADP')),\n",
       " (('there', 'DET'), ('there', 'ADV')),\n",
       " (('that', 'ADP'), ('that', 'DET')),\n",
       " (('tilt', '.'), ('tilt', 'VERB')),\n",
       " (('attempt', 'NOUN'), ('attempt', 'VERB')),\n",
       " (('limit', 'NOUN'), ('limit', 'VERB')),\n",
       " (('Traditionally', '.'), ('Traditionally', 'ADV')),\n",
       " (('*-66', '.'), ('*-66', 'X')),\n",
       " (('entertainment', '.'), ('entertainment', 'NOUN')),\n",
       " (('1.35', '.'), ('1.35', 'NUM')),\n",
       " (('biscuit', '.'), ('biscuit', 'NOUN')),\n",
       " (('Lazzaroni', '.'), ('Lazzaroni', 'NOUN')),\n",
       " (('overproduction', '.'), ('overproduction', 'NOUN')),\n",
       " (('there', 'DET'), ('there', 'ADV')),\n",
       " (('prosecuting', '.'), ('prosecuting', 'VERB')),\n",
       " (('administrators', '.'), ('administrators', 'NOUN')),\n",
       " (('seasonal', '.'), ('seasonal', 'ADJ')),\n",
       " (('enough', 'ADV'), ('enough', 'ADJ')),\n",
       " (('trains', '.'), ('trains', 'NOUN')),\n",
       " (('harvested', '.'), ('harvested', 'VERB')),\n",
       " (('loading', '.'), ('loading', 'VERB')),\n",
       " (('Genie', '.'), ('Genie', 'NOUN')),\n",
       " (('buy-back', 'ADJ'), ('buy-back', 'NOUN')),\n",
       " (('above-market', '.'), ('above-market', 'ADJ')),\n",
       " (('scared', 'VERB'), ('scared', 'ADJ')),\n",
       " (('close', 'VERB'), ('close', 'ADJ')),\n",
       " (('guarantee', 'NOUN'), ('guarantee', 'VERB')),\n",
       " (('seven-million-ton', '.'), ('seven-million-ton', 'ADJ')),\n",
       " (('cut', 'VERB'), ('cut', 'NOUN')),\n",
       " (('that', 'ADP'), ('that', 'DET')),\n",
       " (('acid', 'ADJ'), ('acid', 'NOUN')),\n",
       " (('that', 'ADP'), ('that', 'DET')),\n",
       " (('Different', '.'), ('Different', 'NOUN')),\n",
       " (('spin-off', '.'), ('spin-off', 'NOUN')),\n",
       " (('*T*-151', '.'), ('*T*-151', 'X')),\n",
       " (('One', 'NUM'), ('One', 'NOUN')),\n",
       " (('H.N.', '.'), ('H.N.', 'NOUN')),\n",
       " (('Frances', '.'), ('Frances', 'NOUN')),\n",
       " (('Berger', '.'), ('Berger', 'NOUN')),\n",
       " (('116.9', '.'), ('116.9', 'NUM')),\n",
       " (('past', 'ADJ'), ('past', 'NOUN')),\n",
       " (('112.9', '.'), ('112.9', 'NUM')),\n",
       " (('120.7', '.'), ('120.7', 'NUM')),\n",
       " (('new-car', '.'), ('new-car', 'NOUN')),\n",
       " (('that', 'ADP'), ('that', 'DET')),\n",
       " (('Cougar', '.'), ('Cougar', 'NOUN')),\n",
       " (('vast', '.'), ('vast', 'ADJ')),\n",
       " (('hysteria', '.'), ('hysteria', 'NOUN')),\n",
       " (('surrounding', '.'), ('surrounding', 'VERB')),\n",
       " (('Preston', '.'), ('Preston', 'NOUN')),\n",
       " (('Birmingham', '.'), ('Birmingham', 'NOUN')),\n",
       " (('Ala', '.'), ('Ala', 'NOUN')),\n",
       " (('limited-partnership', '.'), ('limited-partnership', 'NOUN')),\n",
       " (('emerges', '.'), ('emerges', 'VERB')),\n",
       " (('More', 'ADJ'), ('More', 'ADV')),\n",
       " (('curly', '.'), ('curly', 'ADJ')),\n",
       " (('434.4', '.'), ('434.4', 'NUM')),\n",
       " (('12.52', '.'), ('12.52', 'NUM')),\n",
       " (('11.95', '.'), ('11.95', 'NUM')),\n",
       " (('equity-purchase', '.'), ('equity-purchase', 'ADJ')),\n",
       " (('noticing', '.'), ('noticing', 'VERB')),\n",
       " (('only', 'ADJ'), ('only', 'ADV')),\n",
       " (('jostle', '.'), ('jostle', 'VERB')),\n",
       " (('cabs', '.'), ('cabs', 'NOUN')),\n",
       " (('Ind.', '.'), ('Ind.', 'NOUN')),\n",
       " (('arched', '.'), ('arched', 'ADJ')),\n",
       " (('G', '.'), ('G', 'NOUN')),\n",
       " (('develops', '.'), ('develops', 'VERB')),\n",
       " (('markets', 'NOUN'), ('markets', 'VERB')),\n",
       " (('low-cost', '.'), ('low-cost', 'ADJ')),\n",
       " (('back', 'ADV'), ('back', 'PRT')),\n",
       " (('notes', 'NOUN'), ('notes', 'VERB')),\n",
       " (('co-chairman', '.'), ('co-chairman', 'NOUN')),\n",
       " (('374.20', '.'), ('374.20', 'NUM')),\n",
       " (('down', 'ADV'), ('down', 'ADP')),\n",
       " (('very', 'ADV'), ('very', 'ADJ')),\n",
       " (('building', 'VERB'), ('building', 'NOUN')),\n",
       " (('that', 'ADP'), ('that', 'DET')),\n",
       " (('*-157', '.'), ('*-157', 'X')),\n",
       " (('Thai', '.'), ('Thai', 'NOUN')),\n",
       " (('cabinet', '.'), ('cabinet', 'NOUN')),\n",
       " (('Pramual', '.'), ('Pramual', 'NOUN')),\n",
       " (('Sabhavasu', '.'), ('Sabhavasu', 'NOUN')),\n",
       " ((\"'s\", 'VERB'), (\"'s\", 'PRT')),\n",
       " (('Housing', '.'), ('Housing', 'NOUN')),\n",
       " (('return', 'NOUN'), ('return', 'VERB')),\n",
       " (('limited-partnership', '.'), ('limited-partnership', 'NOUN')),\n",
       " (('Bellows', '.'), ('Bellows', 'NOUN')),\n",
       " (('brightened', '.'), ('brightened', 'VERB')),\n",
       " (('trading', 'NOUN'), ('trading', 'VERB')),\n",
       " (('1.8415', '.'), ('1.8415', 'NUM')),\n",
       " (('142.85', '.'), ('142.85', 'NUM')),\n",
       " (('Concurrent', '.'), ('Concurrent', 'ADJ')),\n",
       " (('unstinting', '.'), ('unstinting', 'ADJ')),\n",
       " (('laurels', '.'), ('laurels', 'NOUN')),\n",
       " (('reviewing', '.'), ('reviewing', 'VERB')),\n",
       " (('schoolteacher', '.'), ('schoolteacher', 'NOUN')),\n",
       " (('similarity', '.'), ('similarity', 'NOUN')),\n",
       " (('So', 'ADV'), ('So', 'ADP')),\n",
       " (('*T*-202', '.'), ('*T*-202', 'X')),\n",
       " (('ago', 'ADP'), ('ago', 'ADV')),\n",
       " (('*-86', '.'), ('*-86', 'X')),\n",
       " (('VanSant', '.'), ('VanSant', 'NOUN')),\n",
       " (('Dugdale', '.'), ('Dugdale', 'NOUN')),\n",
       " (('Bramalea', '.'), ('Bramalea', 'NOUN')),\n",
       " (('craft', '.'), ('craft', 'VERB')),\n",
       " (('1.8415', '.'), ('1.8415', 'NUM')),\n",
       " (('142.85', '.'), ('142.85', 'NUM')),\n",
       " (('publishing', 'NOUN'), ('publishing', 'VERB')),\n",
       " (('enough', 'ADV'), ('enough', 'ADJ')),\n",
       " (('more', 'ADV'), ('more', 'ADJ')),\n",
       " (('Bears', '.'), ('Bears', 'NOUN')),\n",
       " (('shaky', '.'), ('shaky', 'ADJ')),\n",
       " (('urging', '.'), ('urging', 'VERB')),\n",
       " (('car-safety', '.'), ('car-safety', 'ADJ')),\n",
       " (('*T*-157', '.'), ('*T*-157', 'X')),\n",
       " (('account', 'NOUN'), ('account', 'VERB')),\n",
       " (('industrial-production', '.'), ('industrial-production', 'ADJ')),\n",
       " (('Commodore', '.'), ('Commodore', 'NOUN')),\n",
       " (('Pet', '.'), ('Pet', 'NOUN')),\n",
       " (('Tandy', '.'), ('Tandy', 'NOUN')),\n",
       " (('TRS-80', '.'), ('TRS-80', 'NOUN')),\n",
       " (('up', 'ADV'), ('up', 'ADP')),\n",
       " (('Arraignments', '.'), ('Arraignments', 'NOUN')),\n",
       " (('land', 'NOUN'), ('land', 'VERB')),\n",
       " (('upscale', 'ADJ'), ('upscale', 'NOUN')),\n",
       " (('project', 'NOUN'), ('project', 'VERB')),\n",
       " (('14.5', '.'), ('14.5', 'NUM')),\n",
       " (('narrow', '.'), ('narrow', 'ADJ')),\n",
       " (('that', 'DET'), ('that', 'ADP')),\n",
       " (('forgiven', '.'), ('forgiven', 'VERB')),\n",
       " (('Inventories', '.'), ('Inventories', 'NOUN')),\n",
       " (('watched', '.'), ('watched', 'VERB')),\n",
       " (('coverage', '.'), ('coverage', 'NOUN')),\n",
       " (('arts', '.'), ('arts', 'NOUN')),\n",
       " (('criticism', '.'), ('criticism', 'NOUN')),\n",
       " (('72.7', '.'), ('72.7', 'NUM')),\n",
       " (('LaSalle', '.'), ('LaSalle', 'NOUN')),\n",
       " (('I', 'PRON'), ('I', 'NOUN')),\n",
       " (('Earlier', 'ADV'), ('Earlier', 'ADJ')),\n",
       " (('staff-reduction', '.'), ('staff-reduction', 'NOUN')),\n",
       " (('trimmed', '.'), ('trimmed', 'VERB')),\n",
       " (('1\\\\/10th', '.'), ('1\\\\/10th', 'NOUN')),\n",
       " (('redemption', '.'), ('redemption', 'NOUN')),\n",
       " (('report', 'NOUN'), ('report', 'VERB')),\n",
       " (('net', 'NOUN'), ('net', 'ADJ')),\n",
       " (('natural-gas', '.'), ('natural-gas', 'NOUN')),\n",
       " (('6.7', '.'), ('6.7', 'NUM')),\n",
       " (('palace', '.'), ('palace', 'NOUN')),\n",
       " (('revolt', '.'), ('revolt', 'NOUN')),\n",
       " (('telephone', 'NOUN'), ('telephone', 'VERB')),\n",
       " (('pressure', 'NOUN'), ('pressure', 'VERB')),\n",
       " (('ban', 'NOUN'), ('ban', 'VERB')),\n",
       " (('post-hearing', '.'), ('post-hearing', 'ADJ')),\n",
       " (('*T*-214', '.'), ('*T*-214', 'X')),\n",
       " (('comfortable', '.'), ('comfortable', 'ADJ')),\n",
       " (('16.9', '.'), ('16.9', 'NUM')),\n",
       " (('more', 'ADV'), ('more', 'ADJ')),\n",
       " (('17.4', '.'), ('17.4', 'NUM')),\n",
       " (('18.6', '.'), ('18.6', 'NUM')),\n",
       " (('implementation', '.'), ('implementation', 'NOUN')),\n",
       " (('apparent', '.'), ('apparent', 'ADJ')),\n",
       " (('slowing', 'VERB'), ('slowing', 'NOUN')),\n",
       " (('surrounding', '.'), ('surrounding', 'VERB')),\n",
       " (('subtraction', '.'), ('subtraction', 'NOUN')),\n",
       " (('finite', '.'), ('finite', 'ADJ')),\n",
       " (('CTB', '.'), ('CTB', 'NOUN')),\n",
       " (('that', 'ADP'), ('that', 'DET')),\n",
       " (('*T*-106', '.'), ('*T*-106', 'X')),\n",
       " (('Paso', '.'), ('Paso', 'NOUN')),\n",
       " (('boots', '.'), ('boots', 'NOUN')),\n",
       " (('leather', '.'), ('leather', 'NOUN')),\n",
       " (('preferred', 'ADJ'), ('preferred', 'VERB')),\n",
       " (('accrue', '.'), ('accrue', 'VERB')),\n",
       " (('as', 'ADP'), ('as', 'ADV')),\n",
       " (('self-regulatory', '.'), ('self-regulatory', 'ADJ')),\n",
       " (('disciplined', '.'), ('disciplined', 'VERB')),\n",
       " ((\"'s\", 'PRT'), (\"'s\", 'VERB')),\n",
       " (('refreshing', '.'), ('refreshing', 'VERB')),\n",
       " (('self-aggrandizing', '.'), ('self-aggrandizing', 'ADJ')),\n",
       " (('we-Japanese', '.'), ('we-Japanese', 'ADJ')),\n",
       " (('perpetuate', '.'), ('perpetuate', 'VERB')),\n",
       " (('unique', '.'), ('unique', 'ADJ')),\n",
       " (('Japanese', 'ADJ'), ('Japanese', 'NOUN')),\n",
       " (('unfathomable', '.'), ('unfathomable', 'ADJ')),\n",
       " (('outsiders', '.'), ('outsiders', 'NOUN')),\n",
       " (('changes', 'VERB'), ('changes', 'NOUN')),\n",
       " (('about', 'ADP'), ('about', 'ADV')),\n",
       " (('stress', '.'), ('stress', 'NOUN')),\n",
       " (('most', 'ADV'), ('most', 'ADJ')),\n",
       " (('offer', 'NOUN'), ('offer', 'VERB')),\n",
       " (('cost-sharing', 'NOUN'), ('cost-sharing', 'ADJ')),\n",
       " (('that', 'ADP'), ('that', 'DET')),\n",
       " (('subsidize', '.'), ('subsidize', 'VERB')),\n",
       " (('clean-up', '.'), ('clean-up', 'ADJ')),\n",
       " (('coal-fired', '.'), ('coal-fired', 'ADJ')),\n",
       " (('sparing', '.'), ('sparing', 'VERB')),\n",
       " (('exorbitant', '.'), ('exorbitant', 'ADJ')),\n",
       " (('jumps', '.'), ('jumps', 'NOUN')),\n",
       " (('72', '.'), ('72', 'NUM')),\n",
       " (('up', 'ADV'), ('up', 'PRT')),\n",
       " (('routine', 'NOUN'), ('routine', 'ADJ')),\n",
       " (('inspection', '.'), ('inspection', 'NOUN')),\n",
       " (('INQUIRY', '.'), ('INQUIRY', 'NOUN')),\n",
       " (('CLEARS', '.'), ('CLEARS', 'VERB')),\n",
       " (('TEXAS', '.'), ('TEXAS', 'NOUN')),\n",
       " (('JUDGE', '.'), ('JUDGE', 'NOUN')),\n",
       " (('So', 'ADV'), ('So', 'ADP')),\n",
       " (('unenthusiastic', '.'), ('unenthusiastic', 'ADJ')),\n",
       " (('bid', 'NOUN'), ('bid', 'VERB')),\n",
       " (('equivalent', 'ADJ'), ('equivalent', 'NOUN')),\n",
       " (('penny', '.'), ('penny', 'NOUN')),\n",
       " (('11.6', '.'), ('11.6', 'NUM')),\n",
       " (('allocation', '.'), ('allocation', 'NOUN')),\n",
       " (('A-D', '.'), ('A-D', 'NOUN')),\n",
       " (('1991-1999', '.'), ('1991-1999', 'NUM')),\n",
       " (('point', 'NOUN'), ('point', 'VERB')),\n",
       " (('that', 'DET'), ('that', 'ADP')),\n",
       " (('in', 'ADP'), ('in', 'PRT')),\n",
       " (('unabated', '.'), ('unabated', 'ADJ')),\n",
       " (('recede', '.'), ('recede', 'VERB')),\n",
       " (('blurred', '.'), ('blurred', 'VERB')),\n",
       " (('advise', '.'), ('advise', 'VERB')),\n",
       " (('that', 'ADP'), ('that', 'DET')),\n",
       " (('*T*-146', '.'), ('*T*-146', 'X')),\n",
       " (('Stark', '.'), ('Stark', 'NOUN')),\n",
       " (('Robertson', '.'), ('Robertson', 'NOUN')),\n",
       " (('Stephens', '.'), ('Stephens', 'NOUN')),\n",
       " (('up', 'ADV'), ('up', 'PRT')),\n",
       " (('endless', '.'), ('endless', 'ADJ')),\n",
       " (('eating', '.'), ('eating', 'VERB')),\n",
       " (('drinking', '.'), ('drinking', 'VERB')),\n",
       " (('celebrate', '.'), ('celebrate', 'VERB')),\n",
       " (('Party', '.'), ('Party', 'NOUN')),\n",
       " (('plans', 'VERB'), ('plans', 'NOUN'))]"
      ]
     },
     "execution_count": 18,
     "metadata": {},
     "output_type": "execute_result"
    }
   ],
   "source": [
    "# let's check the incorrectly tagged words\n",
    "[j for i, j in enumerate(zip(tagged_seq, test_run_base)) if j[0] != j[1]]"
   ]
  },
  {
   "cell_type": "markdown",
   "metadata": {},
   "source": [
    "    Before proceeding for dealing with unknown words, lets first see how many unknown words we have. Unknown words are those words that are present in the validation set but not in the training set. These words, algorithm has not seen before."
   ]
  },
  {
   "cell_type": "code",
   "execution_count": 19,
   "metadata": {
    "ExecuteTime": {
     "end_time": "2020-05-25T12:16:51.127886Z",
     "start_time": "2020-05-25T12:16:51.121990Z"
    }
   },
   "outputs": [
    {
     "name": "stdout",
     "output_type": "stream",
     "text": [
      "Total Unknown words : 297\n",
      "\n",
      "\n",
      "Unknown Words : ['*T*-157', 'blurred', '374.20', 'elusive', 'Four', 'Corazon', 'limited-partnership', 'subsidize', 'unethical', '148.9', 'eating', 'tags', 'urging', 'noticing', '1991-1999', '11.6', 'Bellows', 'Different', 'la', 'brightened', 'SDI', '*T*-214', 'trains', 'Lebanon', 'Regarded', 'disciplined', 'Disputado', 'Fidelity', 'unenthusiastic', 'Preston', 'Cougar', 'looks', 'boots', 'Stark', '*T*-151', 'Ala', 'three-digit', 'trimmed', 'surrounding', 'seasonal', 'Party', 'watched', 'Nationwide', 'Frances', 'Ideas', 'Campaign', 'Judie', '5.7', 'Bramalea', 'Ind.', '1\\\\/10th', 'recycled', 'Pet', 'thumbing', 'outsiders', 'disaffected', '*T*-202', 'leather', 'loading', '1st', 'bedding', 'revolt', 'unstinting', 'laurels', 'stress', 'Stephens', 'arts', 'Housing', '112.9', 'sinister', '107.03', '494.50', '116.9', 'erudite', 'entertainment', 'LaSalle', 'fundraising', 'pro-Iranian', 'materialize', '434.4', 'COMMUNICATIONS', 'alike', 'allocation', 'cabinet', 'nearly-30', 'amass', 'downright', 'we-Japanese', 'narrow', 'Jacksonville', '17.4', 'twindam', 'self-aggrandizing', 'Commodore', 'Arabian', 'Paso', 'sheep', '*T*-146', 'implementation', 'customized', '917', 'borders', 'TRS-80', 'industrial-production', 'Griffin', '120.7', 'penny', 'Robertson', 'new-car', 'tilt', 'commanded', 'indifference', 'Sabhavasu', 'Pramual', 'hysteria', 'Arraignments', 'seven-million-ton', '274', 'Dugdale', 'long-time', 'Domaine', 'Mayland', 'H.N.', 'apparent', 'Francisco-based', 'above-market', 'Mattress', 'hard-drinking', 'perpetuate', 'redemption', 'recede', 'unabated', 'criticism', 'exorbitant', 'Actually', '3.80', 'Clays', 'snow', 'entertain', 'Lazzaroni', 'taper', '63-year-old', 'sub-segments', '1.35', 'schoolteacher', 'CTB', 'unlikely', 'finite', 'desultory', 'Riyadh', 'spin-off', 'A-D', 'ROGERS', '*-86', '187', 'equity-purchase', 'TEXAS', 'sparing', '11.95', 'similarity', 'assassinated', 'simulates', 'styles', 'arched', 'CLEARS', 'comfortable', 'Inventories', 'unique', 'JUDGE', 'low-cost', 'jumps', 'jeopardy', 'craft', 'nine-year', 'drinking', '12.52', 'tailoring', 'borrowed', 'untrained', 'excesses', '5.70', 'shaky', '*T*-241', 'academics', 'diagnosed', 'G', 'Citing', 'biscuit', 'framework', '*-66', 'emerges', '3-4', '*T*-106', 'Chilver', 'co-chairman', 'Bears', 'reminded', 'Myron', 'foreign-stock', 'weapon', 'Traditionally', '14.5', 'higher-salaried', 'terrorists', 'staff-reduction', 'beheading', 'judgments', 'Gunmen', 'perpetual', 'develops', 'Next', 'endless', 'coal-fired', '*T*-84', '*T*-245', 'overproduction', 'Shangkun', 'behest', 'palace', 'advise', 'car-safety', 'celebrate', 'subtraction', 'espouse', '6.7', 'longest', 'American-made', 'post-hearing', 'slaying', 'impressed', '18.6', 'refreshing', 'resistant', 'contest', 'unfathomable', 'associate', 'inspection', 'VanSant', 'Tandy', 'Walbrecher', '72.7', '1.8415', '16.9', 'shoot', '36', 'Philippine', 'Berger', 'Thai', 'coverage', 'matching', 'WTD', '153.3', 'avenge', 'curly', 'Genie', 'warranties', 'vast', '142.85', 'self-regulatory', 'forgiven', 'prosecuting', '234.4', 'mobster', '72', '*T*-150', 'Birmingham', '9,118', 'INQUIRY', 'adapting', 'dean', 'accrue', 'anywhere', '95,142', 'botched', 'reviewing', 'harvested', 'strain', 'cabs', 'lengthened', 'differently', 'Concurrent', 'jostle', 'repriced', 'Countries', 'clean-up', 'search', 'Left', 'administrators', 'Islamic', '*-157', 'vineyard', 'Aquino', 'natural-gas', 'Review', '4,645', '160', 'Donoghue']\n"
     ]
    }
   ],
   "source": [
    "# Unknown words \n",
    "\n",
    "test_vocabulary_set = set([t for t in test_tagged_words])\n",
    "\n",
    "unknown_words = list(test_vocabulary_set - training_vocabulary_set)\n",
    "print(\"Total Unknown words :\", len(unknown_words))\n",
    "print(\"\\n\")\n",
    "print(\"Unknown Words :\", unknown_words)"
   ]
  },
  {
   "cell_type": "markdown",
   "metadata": {},
   "source": [
    "# Solve the problem of unknown words\n",
    "\n",
    "<font size=4><b>Method 1</b></font>\n",
    "\n",
    "    - The default Vanilla viterbi algorithm achieved an accuracy of about 91.14%. This approx. 9% loss of accuracy was majorly due to the fact that when the algorithm encountered an unknown word, it assigned an incorrect tag arbitrarily. This is because, for unknown words, the emission probabilities for all candidate tags are 0, so the algorithm arbitrarily chooses (the first) tag.\n",
    "\n",
    "    - Now lets see how we can minimize this loss by modifying the vanilla viterbi.\n",
    "\n",
    "    - If a word is not present in the training vocabulary (unknown word), its emission probability will be ZERO. In that case the state probability will inturn be zero. Thus in cases where the algorithm encounters a word which it has not see previously, we can omit the emission probability and only consider the transition probability.\n",
    "\n",
    "The algorithm can be modified to deal the case as below -\n",
    "\n",
    "    1. If word in unknown then consider only the transition_p (emission probability being 0)\n",
    "\n",
    "    2. else consider both the emission and transition probability."
   ]
  },
  {
   "cell_type": "code",
   "execution_count": 20,
   "metadata": {
    "ExecuteTime": {
     "end_time": "2020-05-25T12:17:32.131764Z",
     "start_time": "2020-05-25T12:17:32.122633Z"
    }
   },
   "outputs": [],
   "source": [
    "# Modified Viterbi Heuristic\n",
    "def Unknown_Words_Vanilla_Viterbi(words, train_bag = train_tagged_words):\n",
    "    state = []\n",
    "    T = list(set([pair[1] for pair in train_bag]))\n",
    "    \n",
    "    for key, word in enumerate(words):\n",
    "        #initialise list of probability column for a given observation\n",
    "        p = [] \n",
    "        for tag in T:\n",
    "            if key == 0:\n",
    "                transition_p = tags_df.loc['.', tag]\n",
    "            else:\n",
    "                transition_p = tags_df.loc[state[-1], tag]\n",
    "                \n",
    "            # compute emission and state probabilities\n",
    "            emission_p = word_given_tag(words[key], tag)[0]/word_given_tag(words[key], tag)[1]\n",
    "            \n",
    "            # modification to the original vanilla viterbi algorithm \n",
    "            # to consider unknown words\n",
    "            if word not in training_vocabulary_set:\n",
    "                state_probability = transition_p\n",
    "            else:\n",
    "                state_probability = emission_p * transition_p\n",
    "                \n",
    "            p.append(state_probability)\n",
    "            \n",
    "        pmax = max(p)\n",
    "        # getting state for which probability is maximum\n",
    "        state_max = T[p.index(pmax)] \n",
    "        state.append(state_max)\n",
    "    return list(zip(words, state))"
   ]
  },
  {
   "cell_type": "code",
   "execution_count": 21,
   "metadata": {
    "ExecuteTime": {
     "end_time": "2020-05-25T12:34:30.089640Z",
     "start_time": "2020-05-25T12:17:41.868832Z"
    }
   },
   "outputs": [
    {
     "name": "stdout",
     "output_type": "stream",
     "text": [
      "The accuracy of the Vanilla Viterbi Algorithm after modification to handle unknown words is - 0.9382741116751269\n"
     ]
    }
   ],
   "source": [
    "# tagging the test sentences\n",
    "unknown_word_tagged_seq = Unknown_Words_Vanilla_Viterbi(test_tagged_words)\n",
    "\n",
    "# accuracy\n",
    "unknown_word_check = [i for i, j in zip(unknown_word_tagged_seq, test_run_base) if i == j]\n",
    "\n",
    "optimized_viterbi_accuracy = len(unknown_word_check)/len(unknown_word_tagged_seq)\n",
    "\n",
    "print(\"The accuracy of the Vanilla Viterbi Algorithm after modification to handle unknown words is -\", optimized_viterbi_accuracy)"
   ]
  },
  {
   "cell_type": "markdown",
   "metadata": {},
   "source": [
    "    - We see the modified viterbi algorithm performs better than the original vanilla viterbi algorithm. The modified viterbi achieves an accuracy of (approx.) 93.82% comapred to 91.14% of the vanilla viterbi.\n",
    "\n",
    "    - Still there is a loss of approx. 6%.\n",
    "\n",
    "    - Now lets see if we can in reduce this loss further.\n",
    "    \n",
    "<font size=4>Let's try with some Lexicon and Rule-Based Models for POS Tagging.</font>"
   ]
  },
  {
   "cell_type": "code",
   "execution_count": 22,
   "metadata": {
    "ExecuteTime": {
     "end_time": "2020-05-25T12:35:03.098577Z",
     "start_time": "2020-05-25T12:35:02.781616Z"
    }
   },
   "outputs": [
    {
     "name": "stdout",
     "output_type": "stream",
     "text": [
      "The accuracy of the Unigram Tagger is - 0.9065989847715736\n"
     ]
    }
   ],
   "source": [
    "# Unigram Tagger\n",
    "\n",
    "unigram_tagger = nltk.UnigramTagger(training_set)\n",
    "unigram_tagger_accuracy = unigram_tagger.evaluate(validation_set)\n",
    "print(\"The accuracy of the Unigram Tagger is -\", unigram_tagger_accuracy)"
   ]
  },
  {
   "cell_type": "markdown",
   "metadata": {},
   "source": [
    "    - Let's now try combining the unigram tagger with a rule based regex tagger."
   ]
  },
  {
   "cell_type": "code",
   "execution_count": 23,
   "metadata": {
    "ExecuteTime": {
     "end_time": "2020-05-25T12:35:10.506312Z",
     "start_time": "2020-05-25T12:35:10.497470Z"
    }
   },
   "outputs": [],
   "source": [
    "# patterns for tagging using a rule based regex tagger -\n",
    "\n",
    "patterns = [\n",
    "    (r'^[aA-zZ].*[0-9]+','NOUN'),  # Alpha Numeric\n",
    "    (r'.*ness$', 'NOUN'),\n",
    "    (r'.*\\'s$', 'NOUN'),              # possessive nouns\n",
    "    (r'.*s$', 'NOUN'),                # plural nouns\n",
    "    (r'.*', 'NOUN'),    \n",
    "    (r'.*ly$', 'ADV'),\n",
    "    (r'^(0|([*|-|$].*))','X'), # Any special character combination\n",
    "    (r'.*ould$', 'X'), # modals\n",
    "    (r'(The|the|A|a|An|an)$', 'DET'),\n",
    "    (r'^([0-9]|[aA-zZ])+\\-[aA-zZ]*$','ADJ'),\n",
    "    (r'.*able$', 'ADJ'), # adjective like 100-megabytes 237-Seats\n",
    "    (r'[aA-zZ]+(ed|ing|es)$', 'VERB'), # Any word ending with 'ing' or 'ed' is a verb\n",
    "    (r'[0-9].?[,\\/]?[0-9]*','NUM')# Numbers \n",
    "    ]"
   ]
  },
  {
   "cell_type": "code",
   "execution_count": 24,
   "metadata": {
    "ExecuteTime": {
     "end_time": "2020-05-25T12:35:16.847823Z",
     "start_time": "2020-05-25T12:35:15.833673Z"
    }
   },
   "outputs": [
    {
     "name": "stdout",
     "output_type": "stream",
     "text": [
      "The accuracy of the Unigram Tagger backed up by the RegexpTagger is - 0.9334010152284264\n"
     ]
    }
   ],
   "source": [
    "# rule based RegexpTagger\n",
    "rule_based_tagger = nltk.RegexpTagger(patterns)\n",
    "\n",
    "# unigram tagger backed up by the rule-based tagger\n",
    "rule_based_unigram_tagger = nltk.UnigramTagger(training_set, backoff = rule_based_tagger)\n",
    "accuracy_rule_based_unigram_tagger = rule_based_unigram_tagger.evaluate(validation_set)\n",
    "\n",
    "print(\"The accuracy of the Unigram Tagger backed up by the RegexpTagger is -\", accuracy_rule_based_unigram_tagger)"
   ]
  },
  {
   "cell_type": "code",
   "execution_count": 25,
   "metadata": {
    "ExecuteTime": {
     "end_time": "2020-05-25T12:35:21.762539Z",
     "start_time": "2020-05-25T12:35:20.908796Z"
    }
   },
   "outputs": [
    {
     "name": "stdout",
     "output_type": "stream",
     "text": [
      "The accuracy of the Bigram Tagger backed up by the rule_based_unigram_tagger is - 0.9388832487309645\n"
     ]
    }
   ],
   "source": [
    "# Bigram tagger\n",
    "bigram_tagger = nltk.BigramTagger(training_set, backoff = rule_based_unigram_tagger)\n",
    "bigram_tagger.evaluate(validation_set)\n",
    "accuracy_bigram_tagger = bigram_tagger.evaluate(validation_set)\n",
    "\n",
    "print(\"The accuracy of the Bigram Tagger backed up by the rule_based_unigram_tagger is -\", accuracy_bigram_tagger)"
   ]
  },
  {
   "cell_type": "code",
   "execution_count": 26,
   "metadata": {
    "ExecuteTime": {
     "end_time": "2020-05-25T12:35:33.445128Z",
     "start_time": "2020-05-25T12:35:32.412973Z"
    }
   },
   "outputs": [
    {
     "name": "stdout",
     "output_type": "stream",
     "text": [
      "The accuracy of the Trigram Tagger backed up by the bigram_tagger is - 0.9390862944162437\n"
     ]
    }
   ],
   "source": [
    "# Trigram tagger\n",
    "\n",
    "trigram_tagger = nltk.TrigramTagger(training_set, backoff = bigram_tagger)\n",
    "trigram_tagger.evaluate(validation_set)\n",
    "accuracy_trigram_tagger = trigram_tagger.evaluate(validation_set)\n",
    "\n",
    "print(\"The accuracy of the Trigram Tagger backed up by the bigram_tagger is -\", accuracy_trigram_tagger)"
   ]
  },
  {
   "cell_type": "markdown",
   "metadata": {},
   "source": [
    "<font size=4><b>Method 2</b></font>\n",
    "\n",
    "    - We see that the Trigram Tagger backed up by the bigram tagger gives an accuracy of about 93.90%. Let's now try to modify the viterbi algorithm to use this trigram tagger as a back-off.\n",
    "\n",
    "    - When the viterbi algorithm is not able to tag an unknown word, it uses the rule-based tagger."
   ]
  },
  {
   "cell_type": "code",
   "execution_count": 27,
   "metadata": {
    "ExecuteTime": {
     "end_time": "2020-05-25T12:36:02.713306Z",
     "start_time": "2020-05-25T12:36:02.704135Z"
    }
   },
   "outputs": [],
   "source": [
    "# A trigram tagger backed off by a rule based tagger.\n",
    "\n",
    "def trigram_tagger(word, training_set = training_set):\n",
    "    \n",
    "    patterns = [\n",
    "    (r'[aA-zZ]+(ed|ing|es)$', 'VERB'), # Any word ending with 'ing' or 'ed' is a verb\n",
    "    (r'.*ly$', 'ADV'),        \n",
    "    (r'^([0-9]|[aA-zZ])+\\-[aA-zZ]*$','ADJ'),\n",
    "    (r'.*able$', 'ADJ'), \n",
    "    (r'.*ful$', 'ADJ'),\n",
    "    (r'.*ous$', 'ADJ'),        \n",
    "    (r'^[aA-zZ].*[0-9]+','NOUN'),     # Alpha Numeric\n",
    "    (r'.*ness$', 'NOUN'),\n",
    "    (r'.*\\'s$', 'NOUN'),              # possessive nouns - words ending with 's\n",
    "    (r'.*s$', 'NOUN'),                # plural nouns\n",
    "    (r'.*ers$', 'NOUN'),              # eg.- kinderganteners, autobioghapgers\n",
    "    (r'.*ment$', 'NOUN'),\n",
    "    (r'.*town$', 'NOUN'),        \n",
    "    (r'^(0|([*|-|$].*))','X'), # Any special character combination\n",
    "    (r'.*ould$', 'X'),        \n",
    "    (r'(The|the|A|a|An|an|That|that|This|this|Those|those|These|these)$', 'DET'), # That/this/these/those belong to the category of Demonstrative determiners\n",
    "    (r'[0-9].?[,\\/]?[0-9]*','NUM'), # Numbers         \n",
    "    (r'.*', 'NOUN')\n",
    "    ]\n",
    "\n",
    "    regex_based_tagger = nltk.RegexpTagger(patterns)\n",
    "\n",
    "    # trigram backed up by the regex tagger\n",
    "    trigram_regex_tagger = nltk.TrigramTagger(training_set, backoff = regex_based_tagger)\n",
    "    return trigram_regex_tagger.tag_sents([[(word)]])"
   ]
  },
  {
   "cell_type": "code",
   "execution_count": 28,
   "metadata": {
    "ExecuteTime": {
     "end_time": "2020-05-25T12:36:08.027436Z",
     "start_time": "2020-05-25T12:36:08.021753Z"
    }
   },
   "outputs": [],
   "source": [
    "# Viterbi Algorithm backed up with trigram tagger\n",
    "def viterbi_supported_by_trigram_tagger(words, train_bag = train_tagged_words):\n",
    "    state = []\n",
    "    tag_set = list(set([pair[1] for pair in train_bag]))\n",
    "    \n",
    "    # use the trigram tagger backed up by the rule based tagger\n",
    "    # for unknown words.\n",
    "    for key, word in enumerate(words):\n",
    "        if word not in training_vocabulary_set:\n",
    "            unknown_word_tag = trigram_tagger(word)\n",
    "            for sent in unknown_word_tag:\n",
    "                for tup in sent:\n",
    "                    state.append(tup[1])\n",
    "        else:            \n",
    "            p = [] \n",
    "            for tag in tag_set:\n",
    "                if key == 0:\n",
    "                    transition_p = tags_df.loc['.', tag]\n",
    "                else:\n",
    "                    transition_p = tags_df.loc[state[-1], tag]\n",
    "                \n",
    "            # compute emission and state probabilities\n",
    "                emission_p = word_given_tag(words[key], tag)[0]/word_given_tag(words[key], tag)[1]\n",
    "                state_probability = emission_p * transition_p    \n",
    "                p.append(state_probability)\n",
    "            \n",
    "            pmax = max(p)\n",
    "            # getting state for which probability is maximum\n",
    "            state_max = tag_set[p.index(pmax)] \n",
    "            state.append(state_max)\n",
    "    return list(zip(words, state))"
   ]
  },
  {
   "cell_type": "markdown",
   "metadata": {},
   "source": [
    "<font size=4> Evaluating Tagging Accuracy </font>"
   ]
  },
  {
   "cell_type": "code",
   "execution_count": 29,
   "metadata": {
    "ExecuteTime": {
     "end_time": "2020-05-25T13:03:46.661382Z",
     "start_time": "2020-05-25T12:36:14.120568Z"
    }
   },
   "outputs": [
    {
     "name": "stdout",
     "output_type": "stream",
     "text": [
      "The accuracy of the viterbi_supported_by_trigram_tagger is - 0.9575634517766497\n"
     ]
    }
   ],
   "source": [
    "# tagging the test sentences\n",
    "viterbi_trigram_tagged_seq = viterbi_supported_by_trigram_tagger(test_tagged_words)\n",
    "\n",
    "# accuracy\n",
    "viterbi_trigram_word_check = [i for i, j in zip(viterbi_trigram_tagged_seq, test_run_base) if i == j]\n",
    "\n",
    "viterbi_trigram_accuracy = len(viterbi_trigram_word_check)/len(viterbi_trigram_tagged_seq)\n",
    "\n",
    "print(\"The accuracy of the viterbi_supported_by_trigram_tagger is -\", viterbi_trigram_accuracy)"
   ]
  },
  {
   "cell_type": "markdown",
   "metadata": {},
   "source": [
    "<font size=4>Compare the tagging accuracies of the modifications with the vanilla Viterbi algorithm </font>\n",
    "\n",
    "    1. First lets check the tagging accuracy on the test_set data generated using the test_train_split"
   ]
  },
  {
   "cell_type": "code",
   "execution_count": 30,
   "metadata": {
    "ExecuteTime": {
     "end_time": "2020-05-25T13:04:12.177739Z",
     "start_time": "2020-05-25T13:04:12.162913Z"
    }
   },
   "outputs": [
    {
     "data": {
      "text/html": [
       "<div>\n",
       "<style scoped>\n",
       "    .dataframe tbody tr th:only-of-type {\n",
       "        vertical-align: middle;\n",
       "    }\n",
       "\n",
       "    .dataframe tbody tr th {\n",
       "        vertical-align: top;\n",
       "    }\n",
       "\n",
       "    .dataframe thead th {\n",
       "        text-align: right;\n",
       "    }\n",
       "</style>\n",
       "<table border=\"1\" class=\"dataframe\">\n",
       "  <thead>\n",
       "    <tr style=\"text-align: right;\">\n",
       "      <th></th>\n",
       "      <th>Tagging_Accuracy</th>\n",
       "    </tr>\n",
       "    <tr>\n",
       "      <th>Tagging_Algorithm</th>\n",
       "      <th></th>\n",
       "    </tr>\n",
       "  </thead>\n",
       "  <tbody>\n",
       "    <tr>\n",
       "      <th>Vanilla Viterbi</th>\n",
       "      <td>91.147208</td>\n",
       "    </tr>\n",
       "    <tr>\n",
       "      <th>Optimized Vanilla Viterbi</th>\n",
       "      <td>93.827411</td>\n",
       "    </tr>\n",
       "    <tr>\n",
       "      <th>Unigram Tagger</th>\n",
       "      <td>90.659898</td>\n",
       "    </tr>\n",
       "    <tr>\n",
       "      <th>Unigram + RegexpTagger</th>\n",
       "      <td>93.340102</td>\n",
       "    </tr>\n",
       "    <tr>\n",
       "      <th>Bigram Tagger + Unigram_tagger</th>\n",
       "      <td>93.888325</td>\n",
       "    </tr>\n",
       "    <tr>\n",
       "      <th>Trigram Tagger + Bigram_tagger</th>\n",
       "      <td>93.908629</td>\n",
       "    </tr>\n",
       "    <tr>\n",
       "      <th>Viterbi + Trigram_tagger</th>\n",
       "      <td>95.756345</td>\n",
       "    </tr>\n",
       "  </tbody>\n",
       "</table>\n",
       "</div>"
      ],
      "text/plain": [
       "                                Tagging_Accuracy\n",
       "Tagging_Algorithm                               \n",
       "Vanilla Viterbi                        91.147208\n",
       "Optimized Vanilla Viterbi              93.827411\n",
       "Unigram Tagger                         90.659898\n",
       "Unigram + RegexpTagger                 93.340102\n",
       "Bigram Tagger + Unigram_tagger         93.888325\n",
       "Trigram Tagger + Bigram_tagger         93.908629\n",
       "Viterbi + Trigram_tagger               95.756345"
      ]
     },
     "execution_count": 30,
     "metadata": {},
     "output_type": "execute_result"
    }
   ],
   "source": [
    "acccuracy_data = [['Vanilla Viterbi', accuracy*100], \n",
    "                  ['Optimized Vanilla Viterbi', optimized_viterbi_accuracy*100], \n",
    "                  ['Unigram Tagger', unigram_tagger_accuracy*100],\n",
    "                  ['Unigram + RegexpTagger', accuracy_rule_based_unigram_tagger*100],\n",
    "                  ['Bigram Tagger + Unigram_tagger', accuracy_bigram_tagger*100],\n",
    "                  ['Trigram Tagger + Bigram_tagger', accuracy_trigram_tagger*100],\n",
    "                  ['Viterbi + Trigram_tagger', viterbi_trigram_accuracy*100]]\n",
    "\n",
    "acccuracy_data_df = pd.DataFrame(acccuracy_data, columns = ['Tagging_Algorithm', 'Tagging_Accuracy'])\n",
    "\n",
    "acccuracy_data_df.set_index('Tagging_Algorithm', drop = True, inplace = True)\n",
    "\n",
    "acccuracy_data_df"
   ]
  },
  {
   "cell_type": "code",
   "execution_count": 31,
   "metadata": {
    "ExecuteTime": {
     "end_time": "2020-05-25T13:04:21.553129Z",
     "start_time": "2020-05-25T13:04:21.326965Z"
    }
   },
   "outputs": [
    {
     "data": {
      "text/plain": [
       "<matplotlib.axes._subplots.AxesSubplot at 0x7f6fce3e1d68>"
      ]
     },
     "execution_count": 31,
     "metadata": {},
     "output_type": "execute_result"
    },
    {
     "data": {
      "image/png": "[encoded data removed]",
      "text/plain": [
       "<Figure size 432x288 with 1 Axes>"
      ]
     },
     "metadata": {
      "needs_background": "light"
     },
     "output_type": "display_data"
    }
   ],
   "source": [
    "# Plot the tagging accuracy peformance line plot\n",
    "acccuracy_data_df.plot.line(rot = 90, legend = False)"
   ]
  },
  {
   "cell_type": "markdown",
   "metadata": {},
   "source": [
    "     2. Next, lets check the tagging accuracies for the algorithm on the sample test sentences provided -"
   ]
  },
  {
   "cell_type": "code",
   "execution_count": 32,
   "metadata": {
    "ExecuteTime": {
     "end_time": "2020-05-25T13:04:32.513709Z",
     "start_time": "2020-05-25T13:04:32.348575Z"
    }
   },
   "outputs": [
    {
     "data": {
      "text/plain": [
       "['Android is a mobile operating system developed by Google.',\n",
       " 'Android has been the best-selling OS worldwide on smartphones since 2011 and on tablets since 2013.',\n",
       " \"Google and Twitter made a deal in 2015 that gave Google access to Twitter's firehose.\",\n",
       " 'Twitter is an online news and social networking service on which users post and interact with messages known as tweets.',\n",
       " 'Before entering politics, Donald Trump was a domineering businessman and a television personality.',\n",
       " 'The 2018 FIFA World Cup is the 21st FIFA World Cup, an international football tournament contested once every four years.',\n",
       " 'This is the first World Cup to be held in Eastern Europe and the 11th time that it has been held in Europe.',\n",
       " 'Show me the cheapest round trips from Dallas to Atlanta\\r\\nI would like to see flights from Denver to Philadelphia.',\n",
       " 'Show me the price of the flights leaving Atlanta at about 3 in the afternoon and arriving in San Francisco.',\n",
       " 'NASA invited social media users to experience the launch of ICESAT-2 Satellite.']"
      ]
     },
     "execution_count": 32,
     "metadata": {},
     "output_type": "execute_result"
    }
   ],
   "source": [
    "# Read the Test Sample file\n",
    "response = requests.get('https://cdn.upgrad.com/UpGrad/temp/9dca5f3b-53c3-47e1-86d5-5ec5dafad6f0/Test_sentences.txt')\n",
    "data = response.text\n",
    "\n",
    "# Tokenize the sentence \n",
    "sample_test_sent = sent_tokenize(data)\n",
    "sample_test_sent"
   ]
  },
  {
   "cell_type": "code",
   "execution_count": 33,
   "metadata": {
    "ExecuteTime": {
     "end_time": "2020-05-25T13:04:38.591704Z",
     "start_time": "2020-05-25T13:04:38.407133Z"
    }
   },
   "outputs": [
    {
     "name": "stderr",
     "output_type": "stream",
     "text": [
      "[nltk_data] Downloading package averaged_perceptron_tagger to\n",
      "[nltk_data]     /home/chandan/nltk_data...\n",
      "[nltk_data]   Package averaged_perceptron_tagger is already up-to-\n",
      "[nltk_data]       date!\n"
     ]
    },
    {
     "data": {
      "text/plain": [
       "[[('Android', 'NOUN'),\n",
       "  ('is', 'VERB'),\n",
       "  ('a', 'DET'),\n",
       "  ('mobile', 'ADJ'),\n",
       "  ('operating', 'NOUN'),\n",
       "  ('system', 'NOUN'),\n",
       "  ('developed', 'VERB'),\n",
       "  ('by', 'ADP'),\n",
       "  ('Google', 'NOUN'),\n",
       "  ('.', '.')],\n",
       " [('Android', 'NOUN'),\n",
       "  ('has', 'VERB'),\n",
       "  ('been', 'VERB'),\n",
       "  ('the', 'DET'),\n",
       "  ('best-selling', 'ADJ'),\n",
       "  ('OS', 'NOUN'),\n",
       "  ('worldwide', 'NOUN'),\n",
       "  ('on', 'ADP'),\n",
       "  ('smartphones', 'NOUN'),\n",
       "  ('since', 'ADP'),\n",
       "  ('2011', 'NUM'),\n",
       "  ('and', 'CONJ'),\n",
       "  ('on', 'ADP'),\n",
       "  ('tablets', 'NOUN'),\n",
       "  ('since', 'ADP'),\n",
       "  ('2013', 'NUM'),\n",
       "  ('.', '.')],\n",
       " [('Google', 'NOUN'),\n",
       "  ('and', 'CONJ'),\n",
       "  ('Twitter', 'NOUN'),\n",
       "  ('made', 'VERB'),\n",
       "  ('a', 'DET'),\n",
       "  ('deal', 'NOUN'),\n",
       "  ('in', 'ADP'),\n",
       "  ('2015', 'NUM'),\n",
       "  ('that', 'DET'),\n",
       "  ('gave', 'VERB'),\n",
       "  ('Google', 'NOUN'),\n",
       "  ('access', 'NOUN'),\n",
       "  ('to', 'PRT'),\n",
       "  ('Twitter', 'NOUN'),\n",
       "  (\"'s\", 'PRT'),\n",
       "  ('firehose', 'NOUN'),\n",
       "  ('.', '.')],\n",
       " [('Twitter', 'NOUN'),\n",
       "  ('is', 'VERB'),\n",
       "  ('an', 'DET'),\n",
       "  ('online', 'ADJ'),\n",
       "  ('news', 'NOUN'),\n",
       "  ('and', 'CONJ'),\n",
       "  ('social', 'ADJ'),\n",
       "  ('networking', 'NOUN'),\n",
       "  ('service', 'NOUN'),\n",
       "  ('on', 'ADP'),\n",
       "  ('which', 'DET'),\n",
       "  ('users', 'NOUN'),\n",
       "  ('post', 'NOUN'),\n",
       "  ('and', 'CONJ'),\n",
       "  ('interact', 'NOUN'),\n",
       "  ('with', 'ADP'),\n",
       "  ('messages', 'NOUN'),\n",
       "  ('known', 'VERB'),\n",
       "  ('as', 'ADP'),\n",
       "  ('tweets', 'NOUN'),\n",
       "  ('.', '.')],\n",
       " [('Before', 'ADP'),\n",
       "  ('entering', 'VERB'),\n",
       "  ('politics', 'NOUN'),\n",
       "  (',', '.'),\n",
       "  ('Donald', 'NOUN'),\n",
       "  ('Trump', 'NOUN'),\n",
       "  ('was', 'VERB'),\n",
       "  ('a', 'DET'),\n",
       "  ('domineering', 'ADJ'),\n",
       "  ('businessman', 'NOUN'),\n",
       "  ('and', 'CONJ'),\n",
       "  ('a', 'DET'),\n",
       "  ('television', 'NOUN'),\n",
       "  ('personality', 'NOUN'),\n",
       "  ('.', '.')],\n",
       " [('The', 'DET'),\n",
       "  ('2018', 'NUM'),\n",
       "  ('FIFA', 'NOUN'),\n",
       "  ('World', 'NOUN'),\n",
       "  ('Cup', 'NOUN'),\n",
       "  ('is', 'VERB'),\n",
       "  ('the', 'DET'),\n",
       "  ('21st', 'NUM'),\n",
       "  ('FIFA', 'NOUN'),\n",
       "  ('World', 'NOUN'),\n",
       "  ('Cup', 'NOUN'),\n",
       "  (',', '.'),\n",
       "  ('an', 'DET'),\n",
       "  ('international', 'ADJ'),\n",
       "  ('football', 'NOUN'),\n",
       "  ('tournament', 'NOUN'),\n",
       "  ('contested', 'VERB'),\n",
       "  ('once', 'ADV'),\n",
       "  ('every', 'DET'),\n",
       "  ('four', 'NUM'),\n",
       "  ('years', 'NOUN'),\n",
       "  ('.', '.')],\n",
       " [('This', 'DET'),\n",
       "  ('is', 'VERB'),\n",
       "  ('the', 'DET'),\n",
       "  ('first', 'ADJ'),\n",
       "  ('World', 'NOUN'),\n",
       "  ('Cup', 'NOUN'),\n",
       "  ('to', 'PRT'),\n",
       "  ('be', 'VERB'),\n",
       "  ('held', 'VERB'),\n",
       "  ('in', 'ADP'),\n",
       "  ('Eastern', 'NOUN'),\n",
       "  ('Europe', 'NOUN'),\n",
       "  ('and', 'CONJ'),\n",
       "  ('the', 'DET'),\n",
       "  ('11th', 'NUM'),\n",
       "  ('time', 'NOUN'),\n",
       "  ('that', 'ADP'),\n",
       "  ('it', 'PRON'),\n",
       "  ('has', 'VERB'),\n",
       "  ('been', 'VERB'),\n",
       "  ('held', 'VERB'),\n",
       "  ('in', 'ADP'),\n",
       "  ('Europe', 'NOUN'),\n",
       "  ('.', '.')],\n",
       " [('Show', 'VERB'),\n",
       "  ('me', 'PRON'),\n",
       "  ('the', 'DET'),\n",
       "  ('cheapest', 'ADJ'),\n",
       "  ('round', 'NOUN'),\n",
       "  ('trips', 'NOUN'),\n",
       "  ('from', 'ADP'),\n",
       "  ('Dallas', 'NOUN'),\n",
       "  ('to', 'PRT'),\n",
       "  ('Atlanta', 'NOUN'),\n",
       "  ('I', 'PRON'),\n",
       "  ('would', 'VERB'),\n",
       "  ('like', 'VERB'),\n",
       "  ('to', 'PRT'),\n",
       "  ('see', 'VERB'),\n",
       "  ('flights', 'NOUN'),\n",
       "  ('from', 'ADP'),\n",
       "  ('Denver', 'NOUN'),\n",
       "  ('to', 'PRT'),\n",
       "  ('Philadelphia', 'NOUN'),\n",
       "  ('.', '.')],\n",
       " [('Show', 'VERB'),\n",
       "  ('me', 'PRON'),\n",
       "  ('the', 'DET'),\n",
       "  ('price', 'NOUN'),\n",
       "  ('of', 'ADP'),\n",
       "  ('the', 'DET'),\n",
       "  ('flights', 'NOUN'),\n",
       "  ('leaving', 'VERB'),\n",
       "  ('Atlanta', 'NOUN'),\n",
       "  ('at', 'ADP'),\n",
       "  ('about', 'ADV'),\n",
       "  ('3', 'NUM'),\n",
       "  ('in', 'ADP'),\n",
       "  ('the', 'DET'),\n",
       "  ('afternoon', 'NOUN'),\n",
       "  ('and', 'CONJ'),\n",
       "  ('arriving', 'NOUN'),\n",
       "  ('in', 'ADP'),\n",
       "  ('San', 'NOUN'),\n",
       "  ('Francisco', 'NOUN'),\n",
       "  ('.', '.')],\n",
       " [('NASA', 'NOUN'),\n",
       "  ('invited', 'VERB'),\n",
       "  ('social', 'ADJ'),\n",
       "  ('media', 'NOUN'),\n",
       "  ('users', 'NOUN'),\n",
       "  ('to', 'PRT'),\n",
       "  ('experience', 'VERB'),\n",
       "  ('the', 'DET'),\n",
       "  ('launch', 'NOUN'),\n",
       "  ('of', 'ADP'),\n",
       "  ('ICESAT-2', 'NOUN'),\n",
       "  ('Satellite', 'NOUN'),\n",
       "  ('.', '.')]]"
      ]
     },
     "execution_count": 33,
     "metadata": {},
     "output_type": "execute_result"
    }
   ],
   "source": [
    "nltk.download('averaged_perceptron_tagger')\n",
    "\n",
    "# Tag the each word from the sample test corpus\n",
    "sample_test_tokenized_sents = [word_tokenize(sent) for sent in sample_test_sent]\n",
    "sample_test_corpus_pos_tags = nltk.pos_tag_sents(sample_test_tokenized_sents, tagset = 'universal')\n",
    "sample_test_corpus_pos_tags"
   ]
  },
  {
   "cell_type": "code",
   "execution_count": 34,
   "metadata": {
    "ExecuteTime": {
     "end_time": "2020-05-25T13:04:53.523831Z",
     "start_time": "2020-05-25T13:04:53.520498Z"
    }
   },
   "outputs": [],
   "source": [
    "# list of untagged words from the sample test data provided\n",
    "sample_test_tagged_words = [tup[0] for sent in sample_test_corpus_pos_tags for tup in sent]\n",
    "\n",
    "# list of tagged words\n",
    "sample_test_test_run_base = [tup for sent in sample_test_corpus_pos_tags for tup in sent]"
   ]
  },
  {
   "cell_type": "code",
   "execution_count": 35,
   "metadata": {
    "ExecuteTime": {
     "end_time": "2020-05-25T13:04:55.373165Z",
     "start_time": "2020-05-25T13:04:55.367279Z"
    }
   },
   "outputs": [
    {
     "data": {
      "text/plain": [
       "['Android',\n",
       " 'is',\n",
       " 'a',\n",
       " 'mobile',\n",
       " 'operating',\n",
       " 'system',\n",
       " 'developed',\n",
       " 'by',\n",
       " 'Google',\n",
       " '.',\n",
       " 'Android',\n",
       " 'has',\n",
       " 'been',\n",
       " 'the',\n",
       " 'best-selling',\n",
       " 'OS',\n",
       " 'worldwide',\n",
       " 'on',\n",
       " 'smartphones',\n",
       " 'since',\n",
       " '2011',\n",
       " 'and',\n",
       " 'on',\n",
       " 'tablets',\n",
       " 'since',\n",
       " '2013',\n",
       " '.',\n",
       " 'Google',\n",
       " 'and',\n",
       " 'Twitter',\n",
       " 'made',\n",
       " 'a',\n",
       " 'deal',\n",
       " 'in',\n",
       " '2015',\n",
       " 'that',\n",
       " 'gave',\n",
       " 'Google',\n",
       " 'access',\n",
       " 'to',\n",
       " 'Twitter',\n",
       " \"'s\",\n",
       " 'firehose',\n",
       " '.',\n",
       " 'Twitter',\n",
       " 'is',\n",
       " 'an',\n",
       " 'online',\n",
       " 'news',\n",
       " 'and',\n",
       " 'social',\n",
       " 'networking',\n",
       " 'service',\n",
       " 'on',\n",
       " 'which',\n",
       " 'users',\n",
       " 'post',\n",
       " 'and',\n",
       " 'interact',\n",
       " 'with',\n",
       " 'messages',\n",
       " 'known',\n",
       " 'as',\n",
       " 'tweets',\n",
       " '.',\n",
       " 'Before',\n",
       " 'entering',\n",
       " 'politics',\n",
       " ',',\n",
       " 'Donald',\n",
       " 'Trump',\n",
       " 'was',\n",
       " 'a',\n",
       " 'domineering',\n",
       " 'businessman',\n",
       " 'and',\n",
       " 'a',\n",
       " 'television',\n",
       " 'personality',\n",
       " '.',\n",
       " 'The',\n",
       " '2018',\n",
       " 'FIFA',\n",
       " 'World',\n",
       " 'Cup',\n",
       " 'is',\n",
       " 'the',\n",
       " '21st',\n",
       " 'FIFA',\n",
       " 'World',\n",
       " 'Cup',\n",
       " ',',\n",
       " 'an',\n",
       " 'international',\n",
       " 'football',\n",
       " 'tournament',\n",
       " 'contested',\n",
       " 'once',\n",
       " 'every',\n",
       " 'four',\n",
       " 'years',\n",
       " '.',\n",
       " 'This',\n",
       " 'is',\n",
       " 'the',\n",
       " 'first',\n",
       " 'World',\n",
       " 'Cup',\n",
       " 'to',\n",
       " 'be',\n",
       " 'held',\n",
       " 'in',\n",
       " 'Eastern',\n",
       " 'Europe',\n",
       " 'and',\n",
       " 'the',\n",
       " '11th',\n",
       " 'time',\n",
       " 'that',\n",
       " 'it',\n",
       " 'has',\n",
       " 'been',\n",
       " 'held',\n",
       " 'in',\n",
       " 'Europe',\n",
       " '.',\n",
       " 'Show',\n",
       " 'me',\n",
       " 'the',\n",
       " 'cheapest',\n",
       " 'round',\n",
       " 'trips',\n",
       " 'from',\n",
       " 'Dallas',\n",
       " 'to',\n",
       " 'Atlanta',\n",
       " 'I',\n",
       " 'would',\n",
       " 'like',\n",
       " 'to',\n",
       " 'see',\n",
       " 'flights',\n",
       " 'from',\n",
       " 'Denver',\n",
       " 'to',\n",
       " 'Philadelphia',\n",
       " '.',\n",
       " 'Show',\n",
       " 'me',\n",
       " 'the',\n",
       " 'price',\n",
       " 'of',\n",
       " 'the',\n",
       " 'flights',\n",
       " 'leaving',\n",
       " 'Atlanta',\n",
       " 'at',\n",
       " 'about',\n",
       " '3',\n",
       " 'in',\n",
       " 'the',\n",
       " 'afternoon',\n",
       " 'and',\n",
       " 'arriving',\n",
       " 'in',\n",
       " 'San',\n",
       " 'Francisco',\n",
       " '.',\n",
       " 'NASA',\n",
       " 'invited',\n",
       " 'social',\n",
       " 'media',\n",
       " 'users',\n",
       " 'to',\n",
       " 'experience',\n",
       " 'the',\n",
       " 'launch',\n",
       " 'of',\n",
       " 'ICESAT-2',\n",
       " 'Satellite',\n",
       " '.']"
      ]
     },
     "execution_count": 35,
     "metadata": {},
     "output_type": "execute_result"
    }
   ],
   "source": [
    "# List of words in sample test corpus\n",
    "sample_test_tagged_words"
   ]
  },
  {
   "cell_type": "markdown",
   "metadata": {},
   "source": [
    "    1. Testing the accuracy of Vanilla Viterbi on sample test data"
   ]
  },
  {
   "cell_type": "code",
   "execution_count": 36,
   "metadata": {
    "ExecuteTime": {
     "end_time": "2020-05-25T13:05:49.427986Z",
     "start_time": "2020-05-25T13:05:15.695948Z"
    }
   },
   "outputs": [
    {
     "name": "stdout",
     "output_type": "stream",
     "text": [
      "The accuracy of the Vanilla Viterbi Algorithm on the sample test data is - 0.7624309392265194\n"
     ]
    }
   ],
   "source": [
    "# tagging the test sentences\n",
    "sample_test_tagged_seq = Vanilla_Viterbi(sample_test_tagged_words)\n",
    "\n",
    "# Let's check the accuracy of the vanilla viterbi algorithm\n",
    "sample_test_check = [i for i, j in zip(sample_test_tagged_seq, sample_test_test_run_base) if i == j]\n",
    "\n",
    "vanilla_viterbi_accuracy_on_sample_test_data = len(sample_test_check)/len(sample_test_tagged_seq)\n",
    "\n",
    "print(\"The accuracy of the Vanilla Viterbi Algorithm on the sample test data is -\", vanilla_viterbi_accuracy_on_sample_test_data)"
   ]
  },
  {
   "cell_type": "markdown",
   "metadata": {},
   "source": [
    "    2. Testing the accuracy of Vanilla_Viterbi_for_Unknown_Words on sample test data"
   ]
  },
  {
   "cell_type": "code",
   "execution_count": 37,
   "metadata": {
    "ExecuteTime": {
     "end_time": "2020-05-25T13:06:58.252508Z",
     "start_time": "2020-05-25T13:06:24.409236Z"
    }
   },
   "outputs": [
    {
     "name": "stdout",
     "output_type": "stream",
     "text": [
      "The accuracy of the Unknown_Words_Vanilla_Viterbi on the sample test data is - 0.8674033149171271\n"
     ]
    }
   ],
   "source": [
    "# tagging the test sentences\n",
    "sample_test_unknown_word_tagged_seq = Unknown_Words_Vanilla_Viterbi(sample_test_tagged_words)\n",
    "\n",
    "# accuracy\n",
    "sample_test_unknown_word_check = [i for i, j in zip(sample_test_unknown_word_tagged_seq, sample_test_test_run_base) if i == j]\n",
    "\n",
    "sample_test_optimized_viterbi_accuracy = len(sample_test_unknown_word_check)/len(sample_test_unknown_word_tagged_seq)\n",
    "\n",
    "print(\"The accuracy of the Unknown_Words_Vanilla_Viterbi on the sample test data is -\", sample_test_optimized_viterbi_accuracy)"
   ]
  },
  {
   "cell_type": "markdown",
   "metadata": {},
   "source": [
    "    3. Testing the accuracy of viterbi_backedup_by_trigram_tagger on sample test data"
   ]
  },
  {
   "cell_type": "code",
   "execution_count": 38,
   "metadata": {
    "ExecuteTime": {
     "end_time": "2020-05-25T13:09:02.336381Z",
     "start_time": "2020-05-25T13:07:05.233372Z"
    }
   },
   "outputs": [
    {
     "name": "stdout",
     "output_type": "stream",
     "text": [
      "The accuracy of the viterbi_supported_by_trigram_tagger on the sample test data is - 0.9337016574585635\n"
     ]
    }
   ],
   "source": [
    "# tagging the test sentences\n",
    "sample_test_viterbi_trigram_tagged_seq = viterbi_supported_by_trigram_tagger(sample_test_tagged_words)\n",
    "\n",
    "# accuracy\n",
    "sample_test_viterbi_trigram_check = [i for i, j in zip(sample_test_viterbi_trigram_tagged_seq, sample_test_test_run_base) if i == j]\n",
    "\n",
    "sample_test_viterbi_trigram_accuracy = len(sample_test_viterbi_trigram_check)/len(sample_test_viterbi_trigram_tagged_seq)\n",
    "\n",
    "print(\"The accuracy of the viterbi_supported_by_trigram_tagger on the sample test data is -\", sample_test_viterbi_trigram_accuracy)"
   ]
  },
  {
   "cell_type": "markdown",
   "metadata": {},
   "source": [
    "<font size=4><b>Comparing the accuracies of the 3 algorithm on sample test data</b></font>"
   ]
  },
  {
   "cell_type": "code",
   "execution_count": 39,
   "metadata": {
    "ExecuteTime": {
     "end_time": "2020-05-25T13:09:20.086754Z",
     "start_time": "2020-05-25T13:09:20.076618Z"
    }
   },
   "outputs": [
    {
     "data": {
      "text/html": [
       "<div>\n",
       "<style scoped>\n",
       "    .dataframe tbody tr th:only-of-type {\n",
       "        vertical-align: middle;\n",
       "    }\n",
       "\n",
       "    .dataframe tbody tr th {\n",
       "        vertical-align: top;\n",
       "    }\n",
       "\n",
       "    .dataframe thead th {\n",
       "        text-align: right;\n",
       "    }\n",
       "</style>\n",
       "<table border=\"1\" class=\"dataframe\">\n",
       "  <thead>\n",
       "    <tr style=\"text-align: right;\">\n",
       "      <th></th>\n",
       "      <th>Tagging_Accuracy</th>\n",
       "    </tr>\n",
       "    <tr>\n",
       "      <th>Tagging_Algorithm</th>\n",
       "      <th></th>\n",
       "    </tr>\n",
       "  </thead>\n",
       "  <tbody>\n",
       "    <tr>\n",
       "      <th>Vanilla Viterbi</th>\n",
       "      <td>76.243094</td>\n",
       "    </tr>\n",
       "    <tr>\n",
       "      <th>Optimized Vanilla Viterbi</th>\n",
       "      <td>86.740331</td>\n",
       "    </tr>\n",
       "    <tr>\n",
       "      <th>Viterbi + Trigram_tagger</th>\n",
       "      <td>93.370166</td>\n",
       "    </tr>\n",
       "  </tbody>\n",
       "</table>\n",
       "</div>"
      ],
      "text/plain": [
       "                           Tagging_Accuracy\n",
       "Tagging_Algorithm                          \n",
       "Vanilla Viterbi                   76.243094\n",
       "Optimized Vanilla Viterbi         86.740331\n",
       "Viterbi + Trigram_tagger          93.370166"
      ]
     },
     "execution_count": 39,
     "metadata": {},
     "output_type": "execute_result"
    }
   ],
   "source": [
    "acccuracy_on_sample_test_data = [['Vanilla Viterbi', vanilla_viterbi_accuracy_on_sample_test_data*100], \n",
    "                  ['Optimized Vanilla Viterbi', sample_test_optimized_viterbi_accuracy*100], \n",
    "                  ['Viterbi + Trigram_tagger', sample_test_viterbi_trigram_accuracy*100]]\n",
    "\n",
    "sample_test_data_acccuracy_df = pd.DataFrame(acccuracy_on_sample_test_data, columns = ['Tagging_Algorithm', 'Tagging_Accuracy'])\n",
    "\n",
    "sample_test_data_acccuracy_df.set_index('Tagging_Algorithm', drop = True, inplace = True)\n",
    "\n",
    "sample_test_data_acccuracy_df"
   ]
  },
  {
   "cell_type": "code",
   "execution_count": 40,
   "metadata": {
    "ExecuteTime": {
     "end_time": "2020-05-25T13:09:31.665682Z",
     "start_time": "2020-05-25T13:09:31.446454Z"
    }
   },
   "outputs": [
    {
     "data": {
      "text/plain": [
       "<matplotlib.axes._subplots.AxesSubplot at 0x7f6fce3b18d0>"
      ]
     },
     "execution_count": 40,
     "metadata": {},
     "output_type": "execute_result"
    },
    {
     "data": {
      "image/png": "[encoded data removed]",
      "text/plain": [
       "<Figure size 432x288 with 1 Axes>"
      ]
     },
     "metadata": {
      "needs_background": "light"
     },
     "output_type": "display_data"
    }
   ],
   "source": [
    "sample_test_data_acccuracy_df.plot.line(rot = 90, legend = False)"
   ]
  },
  {
   "cell_type": "markdown",
   "metadata": {},
   "source": [
    "<font size=4><b>List down cases which were incorrectly tagged by original POS tagger & got corrected by your modifications</b></font>"
   ]
  },
  {
   "cell_type": "markdown",
   "metadata": {},
   "source": [
    "    CASE 1"
   ]
  },
  {
   "cell_type": "code",
   "execution_count": 41,
   "metadata": {
    "ExecuteTime": {
     "end_time": "2020-05-25T13:10:11.805293Z",
     "start_time": "2020-05-25T13:10:03.312401Z"
    }
   },
   "outputs": [
    {
     "name": "stdout",
     "output_type": "stream",
     "text": [
      "Tagging sequence with Vanilla_Viterbi -\n",
      "\n",
      " [('Android', '.'), ('is', 'VERB'), ('a', 'DET'), ('mobile', 'ADJ'), ('operating', 'NOUN'), ('system', 'NOUN'), ('developed', 'VERB'), ('by', 'ADP'), ('Google', '.'), ('.', '.')]\n",
      "\n",
      "\n",
      "--------------------------------------------------------------------------------\n",
      "Tagging sequence with viterbi_supported_by_trigram_tagger -\n",
      "\n",
      " [('Android', 'NOUN'), ('is', 'VERB'), ('a', 'DET'), ('mobile', 'ADJ'), ('operating', 'NOUN'), ('system', 'NOUN'), ('developed', 'VERB'), ('by', 'ADP'), ('Google', 'NOUN'), ('.', '.')]\n"
     ]
    }
   ],
   "source": [
    "# test_sentence_1 = 'Android is a mobile operating system developed by Google.'\n",
    "\n",
    "words_test_sentence_1 = nltk.word_tokenize(' '.join(map(str, sample_test_sent[:1])))\n",
    "\n",
    "# pos tags with Vanilla_Viterbi\n",
    "pos_tagged_sequence_with_vanilla_viterbi = Vanilla_Viterbi(words_test_sentence_1)\n",
    "print(\"Tagging sequence with Vanilla_Viterbi -\\n\\n\", pos_tagged_sequence_with_vanilla_viterbi)\n",
    "\n",
    "print('\\n')\n",
    "print('-'*80)\n",
    "\n",
    "# pos tags with viterbi_supported_by_trigram_tagger\n",
    "pos_tagged_sequence_with_viterbi_trigram = viterbi_supported_by_trigram_tagger(words_test_sentence_1)\n",
    "print(\"Tagging sequence with viterbi_supported_by_trigram_tagger -\\n\\n\", pos_tagged_sequence_with_viterbi_trigram)"
   ]
  },
  {
   "cell_type": "code",
   "execution_count": 42,
   "metadata": {
    "ExecuteTime": {
     "end_time": "2020-05-25T13:10:25.669928Z",
     "start_time": "2020-05-25T13:10:25.648759Z"
    }
   },
   "outputs": [
    {
     "data": {
      "text/html": [
       "<div>\n",
       "<style scoped>\n",
       "    .dataframe tbody tr th:only-of-type {\n",
       "        vertical-align: middle;\n",
       "    }\n",
       "\n",
       "    .dataframe tbody tr th {\n",
       "        vertical-align: top;\n",
       "    }\n",
       "\n",
       "    .dataframe thead th {\n",
       "        text-align: right;\n",
       "    }\n",
       "</style>\n",
       "<table border=\"1\" class=\"dataframe\">\n",
       "  <thead>\n",
       "    <tr style=\"text-align: right;\">\n",
       "      <th></th>\n",
       "      <th>vanilla_viterbi_tags</th>\n",
       "      <th>viterbi_trigram_tags_with_corrections</th>\n",
       "    </tr>\n",
       "  </thead>\n",
       "  <tbody>\n",
       "    <tr>\n",
       "      <th>0</th>\n",
       "      <td>(Android, .)</td>\n",
       "      <td>(Android, NOUN)</td>\n",
       "    </tr>\n",
       "    <tr>\n",
       "      <th>1</th>\n",
       "      <td>(is, VERB)</td>\n",
       "      <td>(is, VERB)</td>\n",
       "    </tr>\n",
       "    <tr>\n",
       "      <th>2</th>\n",
       "      <td>(a, DET)</td>\n",
       "      <td>(a, DET)</td>\n",
       "    </tr>\n",
       "    <tr>\n",
       "      <th>3</th>\n",
       "      <td>(mobile, ADJ)</td>\n",
       "      <td>(mobile, ADJ)</td>\n",
       "    </tr>\n",
       "    <tr>\n",
       "      <th>4</th>\n",
       "      <td>(operating, NOUN)</td>\n",
       "      <td>(operating, NOUN)</td>\n",
       "    </tr>\n",
       "    <tr>\n",
       "      <th>5</th>\n",
       "      <td>(system, NOUN)</td>\n",
       "      <td>(system, NOUN)</td>\n",
       "    </tr>\n",
       "    <tr>\n",
       "      <th>6</th>\n",
       "      <td>(developed, VERB)</td>\n",
       "      <td>(developed, VERB)</td>\n",
       "    </tr>\n",
       "    <tr>\n",
       "      <th>7</th>\n",
       "      <td>(by, ADP)</td>\n",
       "      <td>(by, ADP)</td>\n",
       "    </tr>\n",
       "    <tr>\n",
       "      <th>8</th>\n",
       "      <td>(Google, .)</td>\n",
       "      <td>(Google, NOUN)</td>\n",
       "    </tr>\n",
       "    <tr>\n",
       "      <th>9</th>\n",
       "      <td>(., .)</td>\n",
       "      <td>(., .)</td>\n",
       "    </tr>\n",
       "  </tbody>\n",
       "</table>\n",
       "</div>"
      ],
      "text/plain": [
       "  vanilla_viterbi_tags viterbi_trigram_tags_with_corrections\n",
       "0         (Android, .)                       (Android, NOUN)\n",
       "1           (is, VERB)                            (is, VERB)\n",
       "2             (a, DET)                              (a, DET)\n",
       "3        (mobile, ADJ)                         (mobile, ADJ)\n",
       "4    (operating, NOUN)                     (operating, NOUN)\n",
       "5       (system, NOUN)                        (system, NOUN)\n",
       "6    (developed, VERB)                     (developed, VERB)\n",
       "7            (by, ADP)                             (by, ADP)\n",
       "8          (Google, .)                        (Google, NOUN)\n",
       "9               (., .)                                (., .)"
      ]
     },
     "execution_count": 42,
     "metadata": {},
     "output_type": "execute_result"
    }
   ],
   "source": [
    "cols = ['vanilla_viterbi_tags', 'viterbi_trigram_tags_with_corrections']\n",
    "tags_correction_df_1 = pd.DataFrame(columns = cols)\n",
    "tags_correction_df_1 = tags_correction_df_1.fillna(0)\n",
    "\n",
    "tags_correction_df_1.vanilla_viterbi_tags = [tup for tup in pos_tagged_sequence_with_vanilla_viterbi]\n",
    "tags_correction_df_1.viterbi_trigram_tags_with_corrections = [tup for tup in pos_tagged_sequence_with_viterbi_trigram]\n",
    "\n",
    "tags_correction_df_1"
   ]
  },
  {
   "cell_type": "markdown",
   "metadata": {},
   "source": [
    "    - As we see above in the sample test sentence 1 the words 'Android' and Google was tagged as dot(.) by vanilla viterbi. The modified algorithm of viterbi backed up by trigram tagger corrected these and tagged 'Android' and 'Google' as NOUN."
   ]
  },
  {
   "cell_type": "markdown",
   "metadata": {},
   "source": [
    "    CASE 2"
   ]
  },
  {
   "cell_type": "code",
   "execution_count": 43,
   "metadata": {
    "ExecuteTime": {
     "end_time": "2020-05-25T13:13:12.950834Z",
     "start_time": "2020-05-25T13:12:45.589833Z"
    }
   },
   "outputs": [
    {
     "name": "stdout",
     "output_type": "stream",
     "text": [
      "Tagging sequence with Vanilla_Viterbi -\n",
      "\n",
      " [('The', 'DET'), ('2018', '.'), ('FIFA', '.'), ('World', 'NOUN'), ('Cup', '.'), ('is', 'VERB'), ('the', 'DET'), ('21st', '.'), ('FIFA', '.'), ('World', 'NOUN'), ('Cup', '.'), (',', '.'), ('an', 'DET'), ('international', 'ADJ'), ('football', 'NOUN'), ('tournament', '.'), ('contested', '.'), ('once', 'ADV'), ('every', 'DET'), ('four', 'NUM'), ('years', 'NOUN'), ('.', '.')]\n",
      "\n",
      "\n",
      "--------------------------------------------------------------------------------\n",
      "Tagging sequence with viterbi_supported_by_trigram_tagger -\n",
      "\n",
      " [('The', 'DET'), ('2018', 'NUM'), ('FIFA', 'NOUN'), ('World', 'NOUN'), ('Cup', 'NOUN'), ('is', 'VERB'), ('the', 'DET'), ('21st', 'NUM'), ('FIFA', 'NOUN'), ('World', 'NOUN'), ('Cup', 'NOUN'), (',', '.'), ('an', 'DET'), ('international', 'ADJ'), ('football', 'NOUN'), ('tournament', 'NOUN'), ('contested', 'VERB'), ('once', 'ADV'), ('every', 'DET'), ('four', 'NUM'), ('years', 'NOUN'), ('.', '.')]\n"
     ]
    }
   ],
   "source": [
    "words_test_sentence_6 = nltk.word_tokenize(' '.join(map(str, sample_test_sent[5:6])))\n",
    "\n",
    "# pos tags with Vanilla_Viterbi\n",
    "pos_tagged_sequence_with_vanilla_viterbi_6 = Vanilla_Viterbi(words_test_sentence_6)\n",
    "print(\"Tagging sequence with Vanilla_Viterbi -\\n\\n\", pos_tagged_sequence_with_vanilla_viterbi_6)\n",
    "\n",
    "print('\\n')\n",
    "print('-'*80)\n",
    "\n",
    "# pos tags with viterbi_backedup_by_trigram_tagger\n",
    "pos_tagged_sequence_with_viterbi_trigram_6 = viterbi_supported_by_trigram_tagger(words_test_sentence_6)\n",
    "print(\"Tagging sequence with viterbi_supported_by_trigram_tagger -\\n\\n\", pos_tagged_sequence_with_viterbi_trigram_6)"
   ]
  },
  {
   "cell_type": "code",
   "execution_count": 44,
   "metadata": {
    "ExecuteTime": {
     "end_time": "2020-05-25T13:13:18.634612Z",
     "start_time": "2020-05-25T13:13:18.609765Z"
    }
   },
   "outputs": [
    {
     "data": {
      "text/html": [
       "<div>\n",
       "<style scoped>\n",
       "    .dataframe tbody tr th:only-of-type {\n",
       "        vertical-align: middle;\n",
       "    }\n",
       "\n",
       "    .dataframe tbody tr th {\n",
       "        vertical-align: top;\n",
       "    }\n",
       "\n",
       "    .dataframe thead th {\n",
       "        text-align: right;\n",
       "    }\n",
       "</style>\n",
       "<table border=\"1\" class=\"dataframe\">\n",
       "  <thead>\n",
       "    <tr style=\"text-align: right;\">\n",
       "      <th></th>\n",
       "      <th>vanilla_viterbi_tags</th>\n",
       "      <th>viterbi_trigram_tags_with_corrections</th>\n",
       "    </tr>\n",
       "  </thead>\n",
       "  <tbody>\n",
       "    <tr>\n",
       "      <th>0</th>\n",
       "      <td>(The, DET)</td>\n",
       "      <td>(The, DET)</td>\n",
       "    </tr>\n",
       "    <tr>\n",
       "      <th>1</th>\n",
       "      <td>(2018, .)</td>\n",
       "      <td>(2018, NUM)</td>\n",
       "    </tr>\n",
       "    <tr>\n",
       "      <th>2</th>\n",
       "      <td>(FIFA, .)</td>\n",
       "      <td>(FIFA, NOUN)</td>\n",
       "    </tr>\n",
       "    <tr>\n",
       "      <th>3</th>\n",
       "      <td>(World, NOUN)</td>\n",
       "      <td>(World, NOUN)</td>\n",
       "    </tr>\n",
       "    <tr>\n",
       "      <th>4</th>\n",
       "      <td>(Cup, .)</td>\n",
       "      <td>(Cup, NOUN)</td>\n",
       "    </tr>\n",
       "    <tr>\n",
       "      <th>5</th>\n",
       "      <td>(is, VERB)</td>\n",
       "      <td>(is, VERB)</td>\n",
       "    </tr>\n",
       "    <tr>\n",
       "      <th>6</th>\n",
       "      <td>(the, DET)</td>\n",
       "      <td>(the, DET)</td>\n",
       "    </tr>\n",
       "    <tr>\n",
       "      <th>7</th>\n",
       "      <td>(21st, .)</td>\n",
       "      <td>(21st, NUM)</td>\n",
       "    </tr>\n",
       "    <tr>\n",
       "      <th>8</th>\n",
       "      <td>(FIFA, .)</td>\n",
       "      <td>(FIFA, NOUN)</td>\n",
       "    </tr>\n",
       "    <tr>\n",
       "      <th>9</th>\n",
       "      <td>(World, NOUN)</td>\n",
       "      <td>(World, NOUN)</td>\n",
       "    </tr>\n",
       "    <tr>\n",
       "      <th>10</th>\n",
       "      <td>(Cup, .)</td>\n",
       "      <td>(Cup, NOUN)</td>\n",
       "    </tr>\n",
       "    <tr>\n",
       "      <th>11</th>\n",
       "      <td>(,, .)</td>\n",
       "      <td>(,, .)</td>\n",
       "    </tr>\n",
       "    <tr>\n",
       "      <th>12</th>\n",
       "      <td>(an, DET)</td>\n",
       "      <td>(an, DET)</td>\n",
       "    </tr>\n",
       "    <tr>\n",
       "      <th>13</th>\n",
       "      <td>(international, ADJ)</td>\n",
       "      <td>(international, ADJ)</td>\n",
       "    </tr>\n",
       "    <tr>\n",
       "      <th>14</th>\n",
       "      <td>(football, NOUN)</td>\n",
       "      <td>(football, NOUN)</td>\n",
       "    </tr>\n",
       "    <tr>\n",
       "      <th>15</th>\n",
       "      <td>(tournament, .)</td>\n",
       "      <td>(tournament, NOUN)</td>\n",
       "    </tr>\n",
       "    <tr>\n",
       "      <th>16</th>\n",
       "      <td>(contested, .)</td>\n",
       "      <td>(contested, VERB)</td>\n",
       "    </tr>\n",
       "    <tr>\n",
       "      <th>17</th>\n",
       "      <td>(once, ADV)</td>\n",
       "      <td>(once, ADV)</td>\n",
       "    </tr>\n",
       "    <tr>\n",
       "      <th>18</th>\n",
       "      <td>(every, DET)</td>\n",
       "      <td>(every, DET)</td>\n",
       "    </tr>\n",
       "    <tr>\n",
       "      <th>19</th>\n",
       "      <td>(four, NUM)</td>\n",
       "      <td>(four, NUM)</td>\n",
       "    </tr>\n",
       "    <tr>\n",
       "      <th>20</th>\n",
       "      <td>(years, NOUN)</td>\n",
       "      <td>(years, NOUN)</td>\n",
       "    </tr>\n",
       "    <tr>\n",
       "      <th>21</th>\n",
       "      <td>(., .)</td>\n",
       "      <td>(., .)</td>\n",
       "    </tr>\n",
       "  </tbody>\n",
       "</table>\n",
       "</div>"
      ],
      "text/plain": [
       "    vanilla_viterbi_tags viterbi_trigram_tags_with_corrections\n",
       "0             (The, DET)                            (The, DET)\n",
       "1              (2018, .)                           (2018, NUM)\n",
       "2              (FIFA, .)                          (FIFA, NOUN)\n",
       "3          (World, NOUN)                         (World, NOUN)\n",
       "4               (Cup, .)                           (Cup, NOUN)\n",
       "5             (is, VERB)                            (is, VERB)\n",
       "6             (the, DET)                            (the, DET)\n",
       "7              (21st, .)                           (21st, NUM)\n",
       "8              (FIFA, .)                          (FIFA, NOUN)\n",
       "9          (World, NOUN)                         (World, NOUN)\n",
       "10              (Cup, .)                           (Cup, NOUN)\n",
       "11                (,, .)                                (,, .)\n",
       "12             (an, DET)                             (an, DET)\n",
       "13  (international, ADJ)                  (international, ADJ)\n",
       "14      (football, NOUN)                      (football, NOUN)\n",
       "15       (tournament, .)                    (tournament, NOUN)\n",
       "16        (contested, .)                     (contested, VERB)\n",
       "17           (once, ADV)                           (once, ADV)\n",
       "18          (every, DET)                          (every, DET)\n",
       "19           (four, NUM)                           (four, NUM)\n",
       "20         (years, NOUN)                         (years, NOUN)\n",
       "21                (., .)                                (., .)"
      ]
     },
     "execution_count": 44,
     "metadata": {},
     "output_type": "execute_result"
    }
   ],
   "source": [
    "tags_correction_df_6 = pd.DataFrame(columns = cols)\n",
    "tags_correction_df_6 = tags_correction_df_6.fillna(0)\n",
    "\n",
    "tags_correction_df_6.vanilla_viterbi_tags = [tup for tup in pos_tagged_sequence_with_vanilla_viterbi_6]\n",
    "tags_correction_df_6.viterbi_trigram_tags_with_corrections = [tup for tup in pos_tagged_sequence_with_viterbi_trigram_6]\n",
    "\n",
    "tags_correction_df_6"
   ]
  },
  {
   "cell_type": "markdown",
   "metadata": {},
   "source": [
    "    - As we see above in the sample test sentence 6 the following words were incorrectly tagged by the vanilla viterbi algorithm - '2018' as dot(.) , 'FIFA' as dot(.) , 'Cup' as dot(.), '21st' as dot(.), 'tournament' as dot(.), 'contested' as dot(.)\n",
    "    \n",
    "    - The above words were corrected by viterbi backed up by the trigram tagger. The corrections were made as - '2018' as NUM, 'FIFA' as NOUN, 'Cup' as NOUN, '21st' as NUM, 'tournament' as NOUN, 'contested' as VERB."
   ]
  },
  {
   "cell_type": "code",
   "execution_count": 45,
   "metadata": {
    "ExecuteTime": {
     "end_time": "2020-05-25T13:18:14.273461Z",
     "start_time": "2020-05-25T13:18:03.952454Z"
    }
   },
   "outputs": [
    {
     "name": "stdout",
     "output_type": "stream",
     "text": [
      "Tagging sequence with Vanilla_Viterbi -\n",
      "\n",
      " [('Show', 'NOUN'), ('me', 'PRON'), ('the', 'DET'), ('price', 'NOUN'), ('of', 'ADP'), ('the', 'DET'), ('flights', 'NOUN'), ('leaving', 'VERB'), ('Atlanta', 'NOUN'), ('at', 'ADP'), ('about', 'ADP'), ('3', 'NUM'), ('in', 'ADP'), ('the', 'DET'), ('afternoon', 'NOUN'), ('and', 'CONJ'), ('arriving', '.'), ('in', 'ADP'), ('San', 'NOUN'), ('Francisco', 'NOUN'), ('.', '.')]\n",
      "\n",
      "\n",
      "--------------------------------------------------------------------------------\n",
      "Tagging sequence with viterbi_supported_by_trigram_tagger -\n",
      "\n",
      " [('Show', 'NOUN'), ('me', 'PRON'), ('the', 'DET'), ('price', 'NOUN'), ('of', 'ADP'), ('the', 'DET'), ('flights', 'NOUN'), ('leaving', 'VERB'), ('Atlanta', 'NOUN'), ('at', 'ADP'), ('about', 'ADP'), ('3', 'NUM'), ('in', 'ADP'), ('the', 'DET'), ('afternoon', 'NOUN'), ('and', 'CONJ'), ('arriving', 'VERB'), ('in', 'ADP'), ('San', 'NOUN'), ('Francisco', 'NOUN'), ('.', '.')]\n"
     ]
    }
   ],
   "source": [
    "words_test_sentence_8 = nltk.word_tokenize(' '.join(map(str, sample_test_sent[8:9])))\n",
    "\n",
    "# pos tags with Vanilla_Viterbi\n",
    "pos_tagged_sequence_with_vanilla_viterbi_8 = Vanilla_Viterbi(words_test_sentence_8)\n",
    "print(\"Tagging sequence with Vanilla_Viterbi -\\n\\n\", pos_tagged_sequence_with_vanilla_viterbi_8)\n",
    "\n",
    "print('\\n')\n",
    "print('-'*80)\n",
    "\n",
    "# pos tags with viterbi_supported_by_trigram_tagger\n",
    "pos_tagged_sequence_with_viterbi_trigram_8 = viterbi_supported_by_trigram_tagger(words_test_sentence_8)\n",
    "print(\"Tagging sequence with viterbi_supported_by_trigram_tagger -\\n\\n\", pos_tagged_sequence_with_viterbi_trigram_8)"
   ]
  },
  {
   "cell_type": "code",
   "execution_count": 46,
   "metadata": {
    "ExecuteTime": {
     "end_time": "2020-05-25T13:18:23.122326Z",
     "start_time": "2020-05-25T13:18:23.099988Z"
    }
   },
   "outputs": [
    {
     "data": {
      "text/html": [
       "<div>\n",
       "<style scoped>\n",
       "    .dataframe tbody tr th:only-of-type {\n",
       "        vertical-align: middle;\n",
       "    }\n",
       "\n",
       "    .dataframe tbody tr th {\n",
       "        vertical-align: top;\n",
       "    }\n",
       "\n",
       "    .dataframe thead th {\n",
       "        text-align: right;\n",
       "    }\n",
       "</style>\n",
       "<table border=\"1\" class=\"dataframe\">\n",
       "  <thead>\n",
       "    <tr style=\"text-align: right;\">\n",
       "      <th></th>\n",
       "      <th>vanilla_viterbi_tags</th>\n",
       "      <th>viterbi_trigram_tags_with_corrections</th>\n",
       "    </tr>\n",
       "  </thead>\n",
       "  <tbody>\n",
       "    <tr>\n",
       "      <th>0</th>\n",
       "      <td>(Show, NOUN)</td>\n",
       "      <td>(Show, NOUN)</td>\n",
       "    </tr>\n",
       "    <tr>\n",
       "      <th>1</th>\n",
       "      <td>(me, PRON)</td>\n",
       "      <td>(me, PRON)</td>\n",
       "    </tr>\n",
       "    <tr>\n",
       "      <th>2</th>\n",
       "      <td>(the, DET)</td>\n",
       "      <td>(the, DET)</td>\n",
       "    </tr>\n",
       "    <tr>\n",
       "      <th>3</th>\n",
       "      <td>(price, NOUN)</td>\n",
       "      <td>(price, NOUN)</td>\n",
       "    </tr>\n",
       "    <tr>\n",
       "      <th>4</th>\n",
       "      <td>(of, ADP)</td>\n",
       "      <td>(of, ADP)</td>\n",
       "    </tr>\n",
       "    <tr>\n",
       "      <th>5</th>\n",
       "      <td>(the, DET)</td>\n",
       "      <td>(the, DET)</td>\n",
       "    </tr>\n",
       "    <tr>\n",
       "      <th>6</th>\n",
       "      <td>(flights, NOUN)</td>\n",
       "      <td>(flights, NOUN)</td>\n",
       "    </tr>\n",
       "    <tr>\n",
       "      <th>7</th>\n",
       "      <td>(leaving, VERB)</td>\n",
       "      <td>(leaving, VERB)</td>\n",
       "    </tr>\n",
       "    <tr>\n",
       "      <th>8</th>\n",
       "      <td>(Atlanta, NOUN)</td>\n",
       "      <td>(Atlanta, NOUN)</td>\n",
       "    </tr>\n",
       "    <tr>\n",
       "      <th>9</th>\n",
       "      <td>(at, ADP)</td>\n",
       "      <td>(at, ADP)</td>\n",
       "    </tr>\n",
       "    <tr>\n",
       "      <th>10</th>\n",
       "      <td>(about, ADP)</td>\n",
       "      <td>(about, ADP)</td>\n",
       "    </tr>\n",
       "    <tr>\n",
       "      <th>11</th>\n",
       "      <td>(3, NUM)</td>\n",
       "      <td>(3, NUM)</td>\n",
       "    </tr>\n",
       "    <tr>\n",
       "      <th>12</th>\n",
       "      <td>(in, ADP)</td>\n",
       "      <td>(in, ADP)</td>\n",
       "    </tr>\n",
       "    <tr>\n",
       "      <th>13</th>\n",
       "      <td>(the, DET)</td>\n",
       "      <td>(the, DET)</td>\n",
       "    </tr>\n",
       "    <tr>\n",
       "      <th>14</th>\n",
       "      <td>(afternoon, NOUN)</td>\n",
       "      <td>(afternoon, NOUN)</td>\n",
       "    </tr>\n",
       "    <tr>\n",
       "      <th>15</th>\n",
       "      <td>(and, CONJ)</td>\n",
       "      <td>(and, CONJ)</td>\n",
       "    </tr>\n",
       "    <tr>\n",
       "      <th>16</th>\n",
       "      <td>(arriving, .)</td>\n",
       "      <td>(arriving, VERB)</td>\n",
       "    </tr>\n",
       "    <tr>\n",
       "      <th>17</th>\n",
       "      <td>(in, ADP)</td>\n",
       "      <td>(in, ADP)</td>\n",
       "    </tr>\n",
       "    <tr>\n",
       "      <th>18</th>\n",
       "      <td>(San, NOUN)</td>\n",
       "      <td>(San, NOUN)</td>\n",
       "    </tr>\n",
       "    <tr>\n",
       "      <th>19</th>\n",
       "      <td>(Francisco, NOUN)</td>\n",
       "      <td>(Francisco, NOUN)</td>\n",
       "    </tr>\n",
       "    <tr>\n",
       "      <th>20</th>\n",
       "      <td>(., .)</td>\n",
       "      <td>(., .)</td>\n",
       "    </tr>\n",
       "  </tbody>\n",
       "</table>\n",
       "</div>"
      ],
      "text/plain": [
       "   vanilla_viterbi_tags viterbi_trigram_tags_with_corrections\n",
       "0          (Show, NOUN)                          (Show, NOUN)\n",
       "1            (me, PRON)                            (me, PRON)\n",
       "2            (the, DET)                            (the, DET)\n",
       "3         (price, NOUN)                         (price, NOUN)\n",
       "4             (of, ADP)                             (of, ADP)\n",
       "5            (the, DET)                            (the, DET)\n",
       "6       (flights, NOUN)                       (flights, NOUN)\n",
       "7       (leaving, VERB)                       (leaving, VERB)\n",
       "8       (Atlanta, NOUN)                       (Atlanta, NOUN)\n",
       "9             (at, ADP)                             (at, ADP)\n",
       "10         (about, ADP)                          (about, ADP)\n",
       "11             (3, NUM)                              (3, NUM)\n",
       "12            (in, ADP)                             (in, ADP)\n",
       "13           (the, DET)                            (the, DET)\n",
       "14    (afternoon, NOUN)                     (afternoon, NOUN)\n",
       "15          (and, CONJ)                           (and, CONJ)\n",
       "16        (arriving, .)                      (arriving, VERB)\n",
       "17            (in, ADP)                             (in, ADP)\n",
       "18          (San, NOUN)                           (San, NOUN)\n",
       "19    (Francisco, NOUN)                     (Francisco, NOUN)\n",
       "20               (., .)                                (., .)"
      ]
     },
     "execution_count": 46,
     "metadata": {},
     "output_type": "execute_result"
    }
   ],
   "source": [
    "tags_correction_df_8 = pd.DataFrame(columns = cols)\n",
    "tags_correction_df_8 = tags_correction_df_8.fillna(0)\n",
    "\n",
    "tags_correction_df_8.vanilla_viterbi_tags = [tup for tup in pos_tagged_sequence_with_vanilla_viterbi_8]\n",
    "tags_correction_df_8.viterbi_trigram_tags_with_corrections = [tup for tup in pos_tagged_sequence_with_viterbi_trigram_8]\n",
    "\n",
    "tags_correction_df_8"
   ]
  },
  {
   "cell_type": "markdown",
   "metadata": {},
   "source": [
    "<b>Now lets see the tags and corrections for all the sample test sentences with both the methods.</b>\n",
    "\n",
    "    Method 1 - We used only the transition probability for unknown words.\n",
    "    \n",
    "    Method 2 - We used the viterbi algorithm and backed it up with the trigram tagger which was inturn backed up by the rule based regex tagger."
   ]
  },
  {
   "cell_type": "code",
   "execution_count": 47,
   "metadata": {
    "ExecuteTime": {
     "end_time": "2020-05-25T13:22:49.941547Z",
     "start_time": "2020-05-25T13:19:44.685262Z"
    }
   },
   "outputs": [
    {
     "name": "stdout",
     "output_type": "stream",
     "text": [
      "Tagging sequence with Vanilla_Viterbi -\n",
      "\n",
      " [('Android', '.'), ('is', 'VERB'), ('a', 'DET'), ('mobile', 'ADJ'), ('operating', 'NOUN'), ('system', 'NOUN'), ('developed', 'VERB'), ('by', 'ADP'), ('Google', '.'), ('.', '.'), ('Android', '.'), ('has', 'VERB'), ('been', 'VERB'), ('the', 'DET'), ('best-selling', 'ADJ'), ('OS', '.'), ('worldwide', '.'), ('on', 'ADP'), ('smartphones', '.'), ('since', 'ADP'), ('2011', '.'), ('and', 'CONJ'), ('on', 'ADP'), ('tablets', 'NOUN'), ('since', 'ADP'), ('2013', '.'), ('.', '.'), ('Google', '.'), ('and', 'CONJ'), ('Twitter', '.'), ('made', 'VERB'), ('a', 'DET'), ('deal', 'NOUN'), ('in', 'ADP'), ('2015', '.'), ('that', 'DET'), ('gave', 'VERB'), ('Google', '.'), ('access', 'NOUN'), ('to', 'PRT'), ('Twitter', '.'), (\"'s\", 'VERB'), ('firehose', '.'), ('.', '.'), ('Twitter', '.'), ('is', 'VERB'), ('an', 'DET'), ('online', '.'), ('news', 'NOUN'), ('and', 'CONJ'), ('social', 'ADJ'), ('networking', 'NOUN'), ('service', 'NOUN'), ('on', 'ADP'), ('which', 'DET'), ('users', 'NOUN'), ('post', 'NOUN'), ('and', 'CONJ'), ('interact', '.'), ('with', 'ADP'), ('messages', '.'), ('known', 'VERB'), ('as', 'ADP'), ('tweets', '.'), ('.', '.'), ('Before', 'ADP'), ('entering', 'VERB'), ('politics', 'NOUN'), (',', '.'), ('Donald', 'NOUN'), ('Trump', 'NOUN'), ('was', 'VERB'), ('a', 'DET'), ('domineering', '.'), ('businessman', 'NOUN'), ('and', 'CONJ'), ('a', 'DET'), ('television', 'NOUN'), ('personality', '.'), ('.', '.'), ('The', 'DET'), ('2018', '.'), ('FIFA', '.'), ('World', 'NOUN'), ('Cup', '.'), ('is', 'VERB'), ('the', 'DET'), ('21st', '.'), ('FIFA', '.'), ('World', 'NOUN'), ('Cup', '.'), (',', '.'), ('an', 'DET'), ('international', 'ADJ'), ('football', 'NOUN'), ('tournament', '.'), ('contested', '.'), ('once', 'ADV'), ('every', 'DET'), ('four', 'NUM'), ('years', 'NOUN'), ('.', '.'), ('This', 'DET'), ('is', 'VERB'), ('the', 'DET'), ('first', 'ADJ'), ('World', 'NOUN'), ('Cup', '.'), ('to', 'PRT'), ('be', 'VERB'), ('held', 'VERB'), ('in', 'ADP'), ('Eastern', 'NOUN'), ('Europe', 'NOUN'), ('and', 'CONJ'), ('the', 'DET'), ('11th', 'ADJ'), ('time', 'NOUN'), ('that', 'ADP'), ('it', 'PRON'), ('has', 'VERB'), ('been', 'VERB'), ('held', 'VERB'), ('in', 'ADP'), ('Europe', 'NOUN'), ('.', '.'), ('Show', 'NOUN'), ('me', 'PRON'), ('the', 'DET'), ('cheapest', 'ADJ'), ('round', 'NOUN'), ('trips', '.'), ('from', 'ADP'), ('Dallas', 'NOUN'), ('to', 'PRT'), ('Atlanta', 'NOUN'), ('I', 'PRON'), ('would', 'VERB'), ('like', 'ADP'), ('to', 'PRT'), ('see', 'VERB'), ('flights', 'NOUN'), ('from', 'ADP'), ('Denver', 'NOUN'), ('to', 'PRT'), ('Philadelphia', 'NOUN'), ('.', '.'), ('Show', 'NOUN'), ('me', 'PRON'), ('the', 'DET'), ('price', 'NOUN'), ('of', 'ADP'), ('the', 'DET'), ('flights', 'NOUN'), ('leaving', 'VERB'), ('Atlanta', 'NOUN'), ('at', 'ADP'), ('about', 'ADP'), ('3', 'NUM'), ('in', 'ADP'), ('the', 'DET'), ('afternoon', 'NOUN'), ('and', 'CONJ'), ('arriving', '.'), ('in', 'ADP'), ('San', 'NOUN'), ('Francisco', 'NOUN'), ('.', '.'), ('NASA', '.'), ('invited', '.'), ('social', 'ADJ'), ('media', 'NOUN'), ('users', 'NOUN'), ('to', 'PRT'), ('experience', 'NOUN'), ('the', 'DET'), ('launch', 'NOUN'), ('of', 'ADP'), ('ICESAT-2', '.'), ('Satellite', '.'), ('.', '.')]\n",
      "\n",
      "\n",
      "----------------------------------------------------------------------------------------------------\n",
      "Tagging sequence with viterbi using only transition probability for unknown words -\n",
      "\n",
      " [('Android', 'NOUN'), ('is', 'VERB'), ('a', 'DET'), ('mobile', 'ADJ'), ('operating', 'NOUN'), ('system', 'NOUN'), ('developed', 'VERB'), ('by', 'ADP'), ('Google', 'DET'), ('.', '.'), ('Android', 'NOUN'), ('has', 'VERB'), ('been', 'VERB'), ('the', 'DET'), ('best-selling', 'ADJ'), ('OS', 'NOUN'), ('worldwide', 'NOUN'), ('on', 'ADP'), ('smartphones', 'DET'), ('since', 'ADP'), ('2011', 'DET'), ('and', 'CONJ'), ('on', 'ADP'), ('tablets', 'NOUN'), ('since', 'ADP'), ('2013', 'DET'), ('.', '.'), ('Google', 'NOUN'), ('and', 'CONJ'), ('Twitter', 'NOUN'), ('made', 'VERB'), ('a', 'DET'), ('deal', 'NOUN'), ('in', 'ADP'), ('2015', 'DET'), ('that', 'ADP'), ('gave', 'VERB'), ('Google', 'X'), ('access', 'NOUN'), ('to', 'PRT'), ('Twitter', 'VERB'), (\"'s\", 'PRT'), ('firehose', 'VERB'), ('.', '.'), ('Twitter', 'NOUN'), ('is', 'VERB'), ('an', 'DET'), ('online', 'NOUN'), ('news', 'NOUN'), ('and', 'CONJ'), ('social', 'ADJ'), ('networking', 'NOUN'), ('service', 'NOUN'), ('on', 'ADP'), ('which', 'DET'), ('users', 'NOUN'), ('post', 'NOUN'), ('and', 'CONJ'), ('interact', 'NOUN'), ('with', 'ADP'), ('messages', 'DET'), ('known', 'VERB'), ('as', 'ADP'), ('tweets', 'DET'), ('.', '.'), ('Before', 'ADP'), ('entering', 'VERB'), ('politics', 'NOUN'), (',', '.'), ('Donald', 'NOUN'), ('Trump', 'NOUN'), ('was', 'VERB'), ('a', 'DET'), ('domineering', 'NOUN'), ('businessman', 'NOUN'), ('and', 'CONJ'), ('a', 'DET'), ('television', 'NOUN'), ('personality', 'NOUN'), ('.', '.'), ('The', 'DET'), ('2018', 'NOUN'), ('FIFA', 'NOUN'), ('World', 'NOUN'), ('Cup', 'NOUN'), ('is', 'VERB'), ('the', 'DET'), ('21st', 'NOUN'), ('FIFA', 'NOUN'), ('World', 'NOUN'), ('Cup', 'NOUN'), (',', '.'), ('an', 'DET'), ('international', 'ADJ'), ('football', 'NOUN'), ('tournament', 'NOUN'), ('contested', 'NOUN'), ('once', 'ADV'), ('every', 'DET'), ('four', 'NUM'), ('years', 'NOUN'), ('.', '.'), ('This', 'DET'), ('is', 'VERB'), ('the', 'DET'), ('first', 'ADJ'), ('World', 'NOUN'), ('Cup', 'NOUN'), ('to', 'PRT'), ('be', 'VERB'), ('held', 'VERB'), ('in', 'ADP'), ('Eastern', 'NOUN'), ('Europe', 'NOUN'), ('and', 'CONJ'), ('the', 'DET'), ('11th', 'ADJ'), ('time', 'NOUN'), ('that', 'ADP'), ('it', 'PRON'), ('has', 'VERB'), ('been', 'VERB'), ('held', 'VERB'), ('in', 'ADP'), ('Europe', 'NOUN'), ('.', '.'), ('Show', 'NOUN'), ('me', 'PRON'), ('the', 'DET'), ('cheapest', 'ADJ'), ('round', 'NOUN'), ('trips', 'NOUN'), ('from', 'ADP'), ('Dallas', 'NOUN'), ('to', 'PRT'), ('Atlanta', 'NOUN'), ('I', 'PRON'), ('would', 'VERB'), ('like', 'ADP'), ('to', 'PRT'), ('see', 'VERB'), ('flights', 'NOUN'), ('from', 'ADP'), ('Denver', 'NOUN'), ('to', 'PRT'), ('Philadelphia', 'NOUN'), ('.', '.'), ('Show', 'NOUN'), ('me', 'PRON'), ('the', 'DET'), ('price', 'NOUN'), ('of', 'ADP'), ('the', 'DET'), ('flights', 'NOUN'), ('leaving', 'VERB'), ('Atlanta', 'NOUN'), ('at', 'ADP'), ('about', 'ADP'), ('3', 'NUM'), ('in', 'ADP'), ('the', 'DET'), ('afternoon', 'NOUN'), ('and', 'CONJ'), ('arriving', 'NOUN'), ('in', 'ADP'), ('San', 'NOUN'), ('Francisco', 'NOUN'), ('.', '.'), ('NASA', 'NOUN'), ('invited', 'NOUN'), ('social', 'ADJ'), ('media', 'NOUN'), ('users', 'NOUN'), ('to', 'PRT'), ('experience', 'NOUN'), ('the', 'DET'), ('launch', 'NOUN'), ('of', 'ADP'), ('ICESAT-2', 'DET'), ('Satellite', 'NOUN'), ('.', '.')]\n",
      "\n",
      "\n",
      "----------------------------------------------------------------------------------------------------\n",
      "Tagging sequence with viterbi_supported_by_trigram_tagger -\n",
      "\n",
      " [('Android', 'NOUN'), ('is', 'VERB'), ('a', 'DET'), ('mobile', 'ADJ'), ('operating', 'NOUN'), ('system', 'NOUN'), ('developed', 'VERB'), ('by', 'ADP'), ('Google', 'NOUN'), ('.', '.'), ('Android', 'NOUN'), ('has', 'VERB'), ('been', 'VERB'), ('the', 'DET'), ('best-selling', 'ADJ'), ('OS', 'NOUN'), ('worldwide', 'NOUN'), ('on', 'ADP'), ('smartphones', 'VERB'), ('since', 'ADP'), ('2011', 'NUM'), ('and', 'CONJ'), ('on', 'ADP'), ('tablets', 'NOUN'), ('since', 'ADP'), ('2013', 'NUM'), ('.', '.'), ('Google', 'NOUN'), ('and', 'CONJ'), ('Twitter', 'NOUN'), ('made', 'VERB'), ('a', 'DET'), ('deal', 'NOUN'), ('in', 'ADP'), ('2015', 'NUM'), ('that', 'ADP'), ('gave', 'VERB'), ('Google', 'NOUN'), ('access', 'NOUN'), ('to', 'PRT'), ('Twitter', 'NOUN'), (\"'s\", 'PRT'), ('firehose', 'NOUN'), ('.', '.'), ('Twitter', 'NOUN'), ('is', 'VERB'), ('an', 'DET'), ('online', 'NOUN'), ('news', 'NOUN'), ('and', 'CONJ'), ('social', 'ADJ'), ('networking', 'NOUN'), ('service', 'NOUN'), ('on', 'ADP'), ('which', 'DET'), ('users', 'NOUN'), ('post', 'NOUN'), ('and', 'CONJ'), ('interact', 'NOUN'), ('with', 'ADP'), ('messages', 'VERB'), ('known', 'VERB'), ('as', 'ADP'), ('tweets', 'NOUN'), ('.', '.'), ('Before', 'ADP'), ('entering', 'VERB'), ('politics', 'NOUN'), (',', '.'), ('Donald', 'NOUN'), ('Trump', 'NOUN'), ('was', 'VERB'), ('a', 'DET'), ('domineering', 'VERB'), ('businessman', 'NOUN'), ('and', 'CONJ'), ('a', 'DET'), ('television', 'NOUN'), ('personality', 'NOUN'), ('.', '.'), ('The', 'DET'), ('2018', 'NUM'), ('FIFA', 'NOUN'), ('World', 'NOUN'), ('Cup', 'NOUN'), ('is', 'VERB'), ('the', 'DET'), ('21st', 'NUM'), ('FIFA', 'NOUN'), ('World', 'NOUN'), ('Cup', 'NOUN'), (',', '.'), ('an', 'DET'), ('international', 'ADJ'), ('football', 'NOUN'), ('tournament', 'NOUN'), ('contested', 'VERB'), ('once', 'ADV'), ('every', 'DET'), ('four', 'NUM'), ('years', 'NOUN'), ('.', '.'), ('This', 'DET'), ('is', 'VERB'), ('the', 'DET'), ('first', 'ADJ'), ('World', 'NOUN'), ('Cup', 'NOUN'), ('to', 'PRT'), ('be', 'VERB'), ('held', 'VERB'), ('in', 'ADP'), ('Eastern', 'NOUN'), ('Europe', 'NOUN'), ('and', 'CONJ'), ('the', 'DET'), ('11th', 'ADJ'), ('time', 'NOUN'), ('that', 'ADP'), ('it', 'PRON'), ('has', 'VERB'), ('been', 'VERB'), ('held', 'VERB'), ('in', 'ADP'), ('Europe', 'NOUN'), ('.', '.'), ('Show', 'NOUN'), ('me', 'PRON'), ('the', 'DET'), ('cheapest', 'ADJ'), ('round', 'NOUN'), ('trips', 'NOUN'), ('from', 'ADP'), ('Dallas', 'NOUN'), ('to', 'PRT'), ('Atlanta', 'NOUN'), ('I', 'PRON'), ('would', 'VERB'), ('like', 'ADP'), ('to', 'PRT'), ('see', 'VERB'), ('flights', 'NOUN'), ('from', 'ADP'), ('Denver', 'NOUN'), ('to', 'PRT'), ('Philadelphia', 'NOUN'), ('.', '.'), ('Show', 'NOUN'), ('me', 'PRON'), ('the', 'DET'), ('price', 'NOUN'), ('of', 'ADP'), ('the', 'DET'), ('flights', 'NOUN'), ('leaving', 'VERB'), ('Atlanta', 'NOUN'), ('at', 'ADP'), ('about', 'ADP'), ('3', 'NUM'), ('in', 'ADP'), ('the', 'DET'), ('afternoon', 'NOUN'), ('and', 'CONJ'), ('arriving', 'VERB'), ('in', 'ADP'), ('San', 'NOUN'), ('Francisco', 'NOUN'), ('.', '.'), ('NASA', 'NOUN'), ('invited', 'VERB'), ('social', 'ADJ'), ('media', 'NOUN'), ('users', 'NOUN'), ('to', 'PRT'), ('experience', 'NOUN'), ('the', 'DET'), ('launch', 'NOUN'), ('of', 'ADP'), ('ICESAT-2', 'NOUN'), ('Satellite', 'NOUN'), ('.', '.')]\n"
     ]
    }
   ],
   "source": [
    "# Default Vanilla Viterbi\n",
    "# pos tags with Vanilla_Viterbi\n",
    "sample_test_tagged_sequence_with_vanilla_viterbi = Vanilla_Viterbi(sample_test_tagged_words)\n",
    "print(\"Tagging sequence with Vanilla_Viterbi -\\n\\n\", sample_test_tagged_sequence_with_vanilla_viterbi)\n",
    "\n",
    "print('\\n')\n",
    "print('-'*100)\n",
    "\n",
    "# Method 1 - pos tags with Unknown_Words_Vanilla_Viterbi\n",
    "sample_test_tagged_sequence_unknown_words = Unknown_Words_Vanilla_Viterbi(sample_test_tagged_words)\n",
    "print(\"Tagging sequence with viterbi using only transition probability for unknown words -\\n\\n\", \n",
    "      sample_test_tagged_sequence_unknown_words)\n",
    "\n",
    "print('\\n')\n",
    "print('-'*100)\n",
    "\n",
    "# Method 2 - pos tags with viterbi_supported_by_trigram_tagger\n",
    "sample_test_tagged_sequence_with_viterbi_trigram = viterbi_supported_by_trigram_tagger(sample_test_tagged_words)\n",
    "print(\"Tagging sequence with viterbi_supported_by_trigram_tagger -\\n\\n\", sample_test_tagged_sequence_with_viterbi_trigram)"
   ]
  },
  {
   "cell_type": "code",
   "execution_count": 48,
   "metadata": {
    "ExecuteTime": {
     "end_time": "2020-05-25T13:23:24.740522Z",
     "start_time": "2020-05-25T13:23:24.687732Z"
    }
   },
   "outputs": [
    {
     "data": {
      "text/html": [
       "<div>\n",
       "<style scoped>\n",
       "    .dataframe tbody tr th:only-of-type {\n",
       "        vertical-align: middle;\n",
       "    }\n",
       "\n",
       "    .dataframe tbody tr th {\n",
       "        vertical-align: top;\n",
       "    }\n",
       "\n",
       "    .dataframe thead th {\n",
       "        text-align: right;\n",
       "    }\n",
       "</style>\n",
       "<table border=\"1\" class=\"dataframe\">\n",
       "  <thead>\n",
       "    <tr style=\"text-align: right;\">\n",
       "      <th></th>\n",
       "      <th>actual_tags</th>\n",
       "      <th>as_tagged_by_vanilla_viterbi</th>\n",
       "      <th>as_tagged_by_Unknown_Words_Vanilla_Viterbi</th>\n",
       "      <th>as_tagged_by_viterbi_supported_by_trigram_tagger</th>\n",
       "    </tr>\n",
       "  </thead>\n",
       "  <tbody>\n",
       "    <tr>\n",
       "      <th>0</th>\n",
       "      <td>(Android, NOUN)</td>\n",
       "      <td>(Android, .)</td>\n",
       "      <td>(Android, NOUN)</td>\n",
       "      <td>(Android, NOUN)</td>\n",
       "    </tr>\n",
       "    <tr>\n",
       "      <th>8</th>\n",
       "      <td>(Google, NOUN)</td>\n",
       "      <td>(Google, .)</td>\n",
       "      <td>(Google, DET)</td>\n",
       "      <td>(Google, NOUN)</td>\n",
       "    </tr>\n",
       "    <tr>\n",
       "      <th>10</th>\n",
       "      <td>(Android, NOUN)</td>\n",
       "      <td>(Android, .)</td>\n",
       "      <td>(Android, NOUN)</td>\n",
       "      <td>(Android, NOUN)</td>\n",
       "    </tr>\n",
       "    <tr>\n",
       "      <th>15</th>\n",
       "      <td>(OS, NOUN)</td>\n",
       "      <td>(OS, .)</td>\n",
       "      <td>(OS, NOUN)</td>\n",
       "      <td>(OS, NOUN)</td>\n",
       "    </tr>\n",
       "    <tr>\n",
       "      <th>16</th>\n",
       "      <td>(worldwide, NOUN)</td>\n",
       "      <td>(worldwide, .)</td>\n",
       "      <td>(worldwide, NOUN)</td>\n",
       "      <td>(worldwide, NOUN)</td>\n",
       "    </tr>\n",
       "    <tr>\n",
       "      <th>18</th>\n",
       "      <td>(smartphones, NOUN)</td>\n",
       "      <td>(smartphones, .)</td>\n",
       "      <td>(smartphones, DET)</td>\n",
       "      <td>(smartphones, VERB)</td>\n",
       "    </tr>\n",
       "    <tr>\n",
       "      <th>20</th>\n",
       "      <td>(2011, NUM)</td>\n",
       "      <td>(2011, .)</td>\n",
       "      <td>(2011, DET)</td>\n",
       "      <td>(2011, NUM)</td>\n",
       "    </tr>\n",
       "    <tr>\n",
       "      <th>25</th>\n",
       "      <td>(2013, NUM)</td>\n",
       "      <td>(2013, .)</td>\n",
       "      <td>(2013, DET)</td>\n",
       "      <td>(2013, NUM)</td>\n",
       "    </tr>\n",
       "    <tr>\n",
       "      <th>27</th>\n",
       "      <td>(Google, NOUN)</td>\n",
       "      <td>(Google, .)</td>\n",
       "      <td>(Google, NOUN)</td>\n",
       "      <td>(Google, NOUN)</td>\n",
       "    </tr>\n",
       "    <tr>\n",
       "      <th>29</th>\n",
       "      <td>(Twitter, NOUN)</td>\n",
       "      <td>(Twitter, .)</td>\n",
       "      <td>(Twitter, NOUN)</td>\n",
       "      <td>(Twitter, NOUN)</td>\n",
       "    </tr>\n",
       "    <tr>\n",
       "      <th>34</th>\n",
       "      <td>(2015, NUM)</td>\n",
       "      <td>(2015, .)</td>\n",
       "      <td>(2015, DET)</td>\n",
       "      <td>(2015, NUM)</td>\n",
       "    </tr>\n",
       "    <tr>\n",
       "      <th>35</th>\n",
       "      <td>(that, DET)</td>\n",
       "      <td>(that, DET)</td>\n",
       "      <td>(that, ADP)</td>\n",
       "      <td>(that, ADP)</td>\n",
       "    </tr>\n",
       "    <tr>\n",
       "      <th>37</th>\n",
       "      <td>(Google, NOUN)</td>\n",
       "      <td>(Google, .)</td>\n",
       "      <td>(Google, X)</td>\n",
       "      <td>(Google, NOUN)</td>\n",
       "    </tr>\n",
       "    <tr>\n",
       "      <th>40</th>\n",
       "      <td>(Twitter, NOUN)</td>\n",
       "      <td>(Twitter, .)</td>\n",
       "      <td>(Twitter, VERB)</td>\n",
       "      <td>(Twitter, NOUN)</td>\n",
       "    </tr>\n",
       "    <tr>\n",
       "      <th>41</th>\n",
       "      <td>('s, PRT)</td>\n",
       "      <td>('s, VERB)</td>\n",
       "      <td>('s, PRT)</td>\n",
       "      <td>('s, PRT)</td>\n",
       "    </tr>\n",
       "    <tr>\n",
       "      <th>42</th>\n",
       "      <td>(firehose, NOUN)</td>\n",
       "      <td>(firehose, .)</td>\n",
       "      <td>(firehose, VERB)</td>\n",
       "      <td>(firehose, NOUN)</td>\n",
       "    </tr>\n",
       "    <tr>\n",
       "      <th>44</th>\n",
       "      <td>(Twitter, NOUN)</td>\n",
       "      <td>(Twitter, .)</td>\n",
       "      <td>(Twitter, NOUN)</td>\n",
       "      <td>(Twitter, NOUN)</td>\n",
       "    </tr>\n",
       "    <tr>\n",
       "      <th>47</th>\n",
       "      <td>(online, ADJ)</td>\n",
       "      <td>(online, .)</td>\n",
       "      <td>(online, NOUN)</td>\n",
       "      <td>(online, NOUN)</td>\n",
       "    </tr>\n",
       "    <tr>\n",
       "      <th>58</th>\n",
       "      <td>(interact, NOUN)</td>\n",
       "      <td>(interact, .)</td>\n",
       "      <td>(interact, NOUN)</td>\n",
       "      <td>(interact, NOUN)</td>\n",
       "    </tr>\n",
       "    <tr>\n",
       "      <th>60</th>\n",
       "      <td>(messages, NOUN)</td>\n",
       "      <td>(messages, .)</td>\n",
       "      <td>(messages, DET)</td>\n",
       "      <td>(messages, VERB)</td>\n",
       "    </tr>\n",
       "    <tr>\n",
       "      <th>63</th>\n",
       "      <td>(tweets, NOUN)</td>\n",
       "      <td>(tweets, .)</td>\n",
       "      <td>(tweets, DET)</td>\n",
       "      <td>(tweets, NOUN)</td>\n",
       "    </tr>\n",
       "    <tr>\n",
       "      <th>73</th>\n",
       "      <td>(domineering, ADJ)</td>\n",
       "      <td>(domineering, .)</td>\n",
       "      <td>(domineering, NOUN)</td>\n",
       "      <td>(domineering, VERB)</td>\n",
       "    </tr>\n",
       "    <tr>\n",
       "      <th>78</th>\n",
       "      <td>(personality, NOUN)</td>\n",
       "      <td>(personality, .)</td>\n",
       "      <td>(personality, NOUN)</td>\n",
       "      <td>(personality, NOUN)</td>\n",
       "    </tr>\n",
       "    <tr>\n",
       "      <th>81</th>\n",
       "      <td>(2018, NUM)</td>\n",
       "      <td>(2018, .)</td>\n",
       "      <td>(2018, NOUN)</td>\n",
       "      <td>(2018, NUM)</td>\n",
       "    </tr>\n",
       "    <tr>\n",
       "      <th>82</th>\n",
       "      <td>(FIFA, NOUN)</td>\n",
       "      <td>(FIFA, .)</td>\n",
       "      <td>(FIFA, NOUN)</td>\n",
       "      <td>(FIFA, NOUN)</td>\n",
       "    </tr>\n",
       "    <tr>\n",
       "      <th>84</th>\n",
       "      <td>(Cup, NOUN)</td>\n",
       "      <td>(Cup, .)</td>\n",
       "      <td>(Cup, NOUN)</td>\n",
       "      <td>(Cup, NOUN)</td>\n",
       "    </tr>\n",
       "    <tr>\n",
       "      <th>87</th>\n",
       "      <td>(21st, NUM)</td>\n",
       "      <td>(21st, .)</td>\n",
       "      <td>(21st, NOUN)</td>\n",
       "      <td>(21st, NUM)</td>\n",
       "    </tr>\n",
       "    <tr>\n",
       "      <th>88</th>\n",
       "      <td>(FIFA, NOUN)</td>\n",
       "      <td>(FIFA, .)</td>\n",
       "      <td>(FIFA, NOUN)</td>\n",
       "      <td>(FIFA, NOUN)</td>\n",
       "    </tr>\n",
       "    <tr>\n",
       "      <th>90</th>\n",
       "      <td>(Cup, NOUN)</td>\n",
       "      <td>(Cup, .)</td>\n",
       "      <td>(Cup, NOUN)</td>\n",
       "      <td>(Cup, NOUN)</td>\n",
       "    </tr>\n",
       "    <tr>\n",
       "      <th>95</th>\n",
       "      <td>(tournament, NOUN)</td>\n",
       "      <td>(tournament, .)</td>\n",
       "      <td>(tournament, NOUN)</td>\n",
       "      <td>(tournament, NOUN)</td>\n",
       "    </tr>\n",
       "    <tr>\n",
       "      <th>96</th>\n",
       "      <td>(contested, VERB)</td>\n",
       "      <td>(contested, .)</td>\n",
       "      <td>(contested, NOUN)</td>\n",
       "      <td>(contested, VERB)</td>\n",
       "    </tr>\n",
       "    <tr>\n",
       "      <th>107</th>\n",
       "      <td>(Cup, NOUN)</td>\n",
       "      <td>(Cup, .)</td>\n",
       "      <td>(Cup, NOUN)</td>\n",
       "      <td>(Cup, NOUN)</td>\n",
       "    </tr>\n",
       "    <tr>\n",
       "      <th>131</th>\n",
       "      <td>(trips, NOUN)</td>\n",
       "      <td>(trips, .)</td>\n",
       "      <td>(trips, NOUN)</td>\n",
       "      <td>(trips, NOUN)</td>\n",
       "    </tr>\n",
       "    <tr>\n",
       "      <th>163</th>\n",
       "      <td>(arriving, NOUN)</td>\n",
       "      <td>(arriving, .)</td>\n",
       "      <td>(arriving, NOUN)</td>\n",
       "      <td>(arriving, VERB)</td>\n",
       "    </tr>\n",
       "    <tr>\n",
       "      <th>168</th>\n",
       "      <td>(NASA, NOUN)</td>\n",
       "      <td>(NASA, .)</td>\n",
       "      <td>(NASA, NOUN)</td>\n",
       "      <td>(NASA, NOUN)</td>\n",
       "    </tr>\n",
       "    <tr>\n",
       "      <th>169</th>\n",
       "      <td>(invited, VERB)</td>\n",
       "      <td>(invited, .)</td>\n",
       "      <td>(invited, NOUN)</td>\n",
       "      <td>(invited, VERB)</td>\n",
       "    </tr>\n",
       "    <tr>\n",
       "      <th>178</th>\n",
       "      <td>(ICESAT-2, NOUN)</td>\n",
       "      <td>(ICESAT-2, .)</td>\n",
       "      <td>(ICESAT-2, DET)</td>\n",
       "      <td>(ICESAT-2, NOUN)</td>\n",
       "    </tr>\n",
       "    <tr>\n",
       "      <th>179</th>\n",
       "      <td>(Satellite, NOUN)</td>\n",
       "      <td>(Satellite, .)</td>\n",
       "      <td>(Satellite, NOUN)</td>\n",
       "      <td>(Satellite, NOUN)</td>\n",
       "    </tr>\n",
       "  </tbody>\n",
       "</table>\n",
       "</div>"
      ],
      "text/plain": [
       "             actual_tags as_tagged_by_vanilla_viterbi  \\\n",
       "0        (Android, NOUN)                 (Android, .)   \n",
       "8         (Google, NOUN)                  (Google, .)   \n",
       "10       (Android, NOUN)                 (Android, .)   \n",
       "15            (OS, NOUN)                      (OS, .)   \n",
       "16     (worldwide, NOUN)               (worldwide, .)   \n",
       "18   (smartphones, NOUN)             (smartphones, .)   \n",
       "20           (2011, NUM)                    (2011, .)   \n",
       "25           (2013, NUM)                    (2013, .)   \n",
       "27        (Google, NOUN)                  (Google, .)   \n",
       "29       (Twitter, NOUN)                 (Twitter, .)   \n",
       "34           (2015, NUM)                    (2015, .)   \n",
       "35           (that, DET)                  (that, DET)   \n",
       "37        (Google, NOUN)                  (Google, .)   \n",
       "40       (Twitter, NOUN)                 (Twitter, .)   \n",
       "41             ('s, PRT)                   ('s, VERB)   \n",
       "42      (firehose, NOUN)                (firehose, .)   \n",
       "44       (Twitter, NOUN)                 (Twitter, .)   \n",
       "47         (online, ADJ)                  (online, .)   \n",
       "58      (interact, NOUN)                (interact, .)   \n",
       "60      (messages, NOUN)                (messages, .)   \n",
       "63        (tweets, NOUN)                  (tweets, .)   \n",
       "73    (domineering, ADJ)             (domineering, .)   \n",
       "78   (personality, NOUN)             (personality, .)   \n",
       "81           (2018, NUM)                    (2018, .)   \n",
       "82          (FIFA, NOUN)                    (FIFA, .)   \n",
       "84           (Cup, NOUN)                     (Cup, .)   \n",
       "87           (21st, NUM)                    (21st, .)   \n",
       "88          (FIFA, NOUN)                    (FIFA, .)   \n",
       "90           (Cup, NOUN)                     (Cup, .)   \n",
       "95    (tournament, NOUN)              (tournament, .)   \n",
       "96     (contested, VERB)               (contested, .)   \n",
       "107          (Cup, NOUN)                     (Cup, .)   \n",
       "131        (trips, NOUN)                   (trips, .)   \n",
       "163     (arriving, NOUN)                (arriving, .)   \n",
       "168         (NASA, NOUN)                    (NASA, .)   \n",
       "169      (invited, VERB)                 (invited, .)   \n",
       "178     (ICESAT-2, NOUN)                (ICESAT-2, .)   \n",
       "179    (Satellite, NOUN)               (Satellite, .)   \n",
       "\n",
       "    as_tagged_by_Unknown_Words_Vanilla_Viterbi  \\\n",
       "0                              (Android, NOUN)   \n",
       "8                                (Google, DET)   \n",
       "10                             (Android, NOUN)   \n",
       "15                                  (OS, NOUN)   \n",
       "16                           (worldwide, NOUN)   \n",
       "18                          (smartphones, DET)   \n",
       "20                                 (2011, DET)   \n",
       "25                                 (2013, DET)   \n",
       "27                              (Google, NOUN)   \n",
       "29                             (Twitter, NOUN)   \n",
       "34                                 (2015, DET)   \n",
       "35                                 (that, ADP)   \n",
       "37                                 (Google, X)   \n",
       "40                             (Twitter, VERB)   \n",
       "41                                   ('s, PRT)   \n",
       "42                            (firehose, VERB)   \n",
       "44                             (Twitter, NOUN)   \n",
       "47                              (online, NOUN)   \n",
       "58                            (interact, NOUN)   \n",
       "60                             (messages, DET)   \n",
       "63                               (tweets, DET)   \n",
       "73                         (domineering, NOUN)   \n",
       "78                         (personality, NOUN)   \n",
       "81                                (2018, NOUN)   \n",
       "82                                (FIFA, NOUN)   \n",
       "84                                 (Cup, NOUN)   \n",
       "87                                (21st, NOUN)   \n",
       "88                                (FIFA, NOUN)   \n",
       "90                                 (Cup, NOUN)   \n",
       "95                          (tournament, NOUN)   \n",
       "96                           (contested, NOUN)   \n",
       "107                                (Cup, NOUN)   \n",
       "131                              (trips, NOUN)   \n",
       "163                           (arriving, NOUN)   \n",
       "168                               (NASA, NOUN)   \n",
       "169                            (invited, NOUN)   \n",
       "178                            (ICESAT-2, DET)   \n",
       "179                          (Satellite, NOUN)   \n",
       "\n",
       "    as_tagged_by_viterbi_supported_by_trigram_tagger  \n",
       "0                                    (Android, NOUN)  \n",
       "8                                     (Google, NOUN)  \n",
       "10                                   (Android, NOUN)  \n",
       "15                                        (OS, NOUN)  \n",
       "16                                 (worldwide, NOUN)  \n",
       "18                               (smartphones, VERB)  \n",
       "20                                       (2011, NUM)  \n",
       "25                                       (2013, NUM)  \n",
       "27                                    (Google, NOUN)  \n",
       "29                                   (Twitter, NOUN)  \n",
       "34                                       (2015, NUM)  \n",
       "35                                       (that, ADP)  \n",
       "37                                    (Google, NOUN)  \n",
       "40                                   (Twitter, NOUN)  \n",
       "41                                         ('s, PRT)  \n",
       "42                                  (firehose, NOUN)  \n",
       "44                                   (Twitter, NOUN)  \n",
       "47                                    (online, NOUN)  \n",
       "58                                  (interact, NOUN)  \n",
       "60                                  (messages, VERB)  \n",
       "63                                    (tweets, NOUN)  \n",
       "73                               (domineering, VERB)  \n",
       "78                               (personality, NOUN)  \n",
       "81                                       (2018, NUM)  \n",
       "82                                      (FIFA, NOUN)  \n",
       "84                                       (Cup, NOUN)  \n",
       "87                                       (21st, NUM)  \n",
       "88                                      (FIFA, NOUN)  \n",
       "90                                       (Cup, NOUN)  \n",
       "95                                (tournament, NOUN)  \n",
       "96                                 (contested, VERB)  \n",
       "107                                      (Cup, NOUN)  \n",
       "131                                    (trips, NOUN)  \n",
       "163                                 (arriving, VERB)  \n",
       "168                                     (NASA, NOUN)  \n",
       "169                                  (invited, VERB)  \n",
       "178                                 (ICESAT-2, NOUN)  \n",
       "179                                (Satellite, NOUN)  "
      ]
     },
     "execution_count": 48,
     "metadata": {},
     "output_type": "execute_result"
    }
   ],
   "source": [
    "# A dataframe showing - \n",
    "# 1. the actual tags using nltk.pos_tag_sent\n",
    "# 2. words as tagged by vanilla viterbi\n",
    "# 3. words as tagged by Unknown_Words_Vanilla_Viterbi - METHOD - 1\n",
    "# 4. words as tagged by viterbi_supported_by_trigram_tagger - METHOD - 2\n",
    "\n",
    "cols1 = ['actual_tags', 'as_tagged_by_vanilla_viterbi', 'as_tagged_by_Unknown_Words_Vanilla_Viterbi',\n",
    "            'as_tagged_by_viterbi_supported_by_trigram_tagger']\n",
    "\n",
    "tags_comparison_df = pd.DataFrame(columns = cols1)\n",
    "tags_comparison_df = tags_comparison_df.fillna(0)\n",
    "\n",
    "# Actual tags\n",
    "tags_comparison_df.actual_tags = [tup for tup in sample_test_test_run_base]\n",
    "\n",
    "# tags by vanilla viterbi\n",
    "tags_comparison_df.as_tagged_by_vanilla_viterbi = [tup for tup in sample_test_tagged_sequence_with_vanilla_viterbi]\n",
    "\n",
    "# tags by Unknown_Words_Vanilla_Viterbi - METHOD - 1\n",
    "tags_comparison_df.as_tagged_by_Unknown_Words_Vanilla_Viterbi = [tup for tup in sample_test_tagged_sequence_unknown_words]\n",
    "\n",
    "# tags by viterbi_supported_by_trigram_tagger - METHOD - 2\n",
    "tags_comparison_df.as_tagged_by_viterbi_supported_by_trigram_tagger = [tup for tup in \n",
    "                                                                            sample_test_tagged_sequence_with_viterbi_trigram]\n",
    "\n",
    "tags_comparison_df[tags_comparison_df.as_tagged_by_vanilla_viterbi != \n",
    "                   tags_comparison_df.as_tagged_by_viterbi_supported_by_trigram_tagger]"
   ]
  },
  {
   "cell_type": "markdown",
   "metadata": {},
   "source": [
    "# Conclusion\n",
    "\n",
    "     Thus we see that most of the words that were incorrectly tagged by the vanilla viterbi algorithm were corrected by the viterbi algorithm backed up by the trigram tagger.\n",
    "     \n",
    "<font size=4>In this analysis we used 2 modification techniques for the original vanilla viterbi -</font>\n",
    "\n",
    "<font size=4>Method 1</font>\n",
    "    - We used only the transition probability for unknown words.\n",
    "    - This gave us an accuracy of 93.82% on the validation data but still had some incorrect classification.\n",
    "    - Also on testing this model on the provided sample test data, it achieved an accuracy of 86.74%.\n",
    "\n",
    "<font size=4>Method 2</font>\n",
    "    - We used the viterbi algorithm and backed it up with the trigram tagger which was inturn backed up by the rule based regex tagger.\n",
    "    - This gave us an accuracy of 95.75% on the validation data.\n",
    "    - Also on testing this model on the provided sample test data, it achieved an accuracy of 93.37%."
   ]
  }
 ],
 "metadata": {
  "kernelspec": {
   "display_name": "Python 3",
   "language": "python",
   "name": "python3"
  },
  "language_info": {
   "codemirror_mode": {
    "name": "ipython",
    "version": 3
   },
   "file_extension": ".py",
   "mimetype": "text/x-python",
   "name": "python",
   "nbconvert_exporter": "python",
   "pygments_lexer": "ipython3",
   "version": "3.5.6"
  },
  "latex_envs": {
   "LaTeX_envs_menu_present": true,
   "autoclose": false,
   "autocomplete": true,
   "bibliofile": "biblio.bib",
   "cite_by": "apalike",
   "current_citInitial": 1,
   "eqLabelWithNumbers": true,
   "eqNumInitial": 1,
   "hotkeys": {
    "equation": "Ctrl-E",
    "itemize": "Ctrl-I"
   },
   "labels_anchors": false,
   "latex_user_defs": false,
   "report_style_numbering": false,
   "user_envs_cfg": false
  },
  "toc": {
   "base_numbering": 1,
   "nav_menu": {},
   "number_sections": true,
   "sideBar": true,
   "skip_h1_title": false,
   "title_cell": "Table of Contents",
   "title_sidebar": "Contents",
   "toc_cell": false,
   "toc_position": {},
   "toc_section_display": true,
   "toc_window_display": false
  },
  "varInspector": {
   "cols": {
    "lenName": 16,
    "lenType": 16,
    "lenVar": 40
   },
   "kernels_config": {
    "python": {
     "delete_cmd_postfix": "",
     "delete_cmd_prefix": "del ",
     "library": "var_list.py",
     "varRefreshCmd": "print(var_dic_list())"
    },
    "r": {
     "delete_cmd_postfix": ") ",
     "delete_cmd_prefix": "rm(",
     "library": "var_list.r",
     "varRefreshCmd": "cat(var_dic_list()) "
    }
   },
   "types_to_exclude": [
    "module",
    "function",
    "builtin_function_or_method",
    "instance",
    "_Feature"
   ],
   "window_display": false
  }
 },
 "nbformat": 4,
 "nbformat_minor": 2
}
